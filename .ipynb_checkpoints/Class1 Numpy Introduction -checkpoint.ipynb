{
 "cells": [
  {
   "cell_type": "code",
   "execution_count": 72,
   "metadata": {},
   "outputs": [],
   "source": [
    "import numpy as np"
   ]
  },
  {
   "cell_type": "code",
   "execution_count": 3,
   "metadata": {},
   "outputs": [
    {
     "data": {
      "text/plain": [
       "4"
      ]
     },
     "execution_count": 3,
     "metadata": {},
     "output_type": "execute_result"
    }
   ],
   "source": [
    "np.sum([1,3]) # sum of numpy"
   ]
  },
  {
   "cell_type": "code",
   "execution_count": 4,
   "metadata": {},
   "outputs": [
    {
     "data": {
      "text/plain": [
       "4"
      ]
     },
     "execution_count": 4,
     "metadata": {},
     "output_type": "execute_result"
    }
   ],
   "source": [
    "sum([1, 3]) # sum of python"
   ]
  },
  {
   "cell_type": "code",
   "execution_count": 5,
   "metadata": {},
   "outputs": [
    {
     "name": "stdout",
     "output_type": "stream",
     "text": [
      "pakistan\n"
     ]
    }
   ],
   "source": [
    "def abc():\n",
    "    print('hello')\n",
    "\n",
    "def abc():\n",
    "    print('pakistan')\n",
    "\n",
    "abc()"
   ]
  },
  {
   "cell_type": "code",
   "execution_count": 7,
   "metadata": {},
   "outputs": [],
   "source": [
    "# function fast through library as c is fast\n",
    "# python is high level is slow"
   ]
  },
  {
   "cell_type": "code",
   "execution_count": 8,
   "metadata": {},
   "outputs": [
    {
     "data": {
      "text/plain": [
       "'1.18.2'"
      ]
     },
     "execution_count": 8,
     "metadata": {},
     "output_type": "execute_result"
    }
   ],
   "source": [
    "np.__version__"
   ]
  },
  {
   "cell_type": "code",
   "execution_count": 9,
   "metadata": {},
   "outputs": [],
   "source": [
    "# pip install --upgrade numpy"
   ]
  },
  {
   "cell_type": "code",
   "execution_count": 11,
   "metadata": {},
   "outputs": [
    {
     "name": "stdout",
     "output_type": "stream",
     "text": [
      "import numpy as np\n",
      "sum([1, 3])\n",
      "def abc():\n",
      "    print('hello')\n",
      "\n",
      "def abc():\n",
      "    print('pakistan')\n",
      "\n",
      "abc()\n",
      "np.sum([1,3])\n",
      "np.sum([1,3]) # sum of numpy\n",
      "sum([1, 3]) # sum of python\n",
      "def abc():\n",
      "    print('hello')\n",
      "\n",
      "def abc():\n",
      "    print('pakistan')\n",
      "\n",
      "abc()\n",
      "np.__version__\n",
      "# pip install --upgrade numpy\n",
      "%history\n",
      "%history\n",
      "# magic function\n"
     ]
    }
   ],
   "source": [
    "%history\n",
    "# magic function"
   ]
  },
  {
   "cell_type": "code",
   "execution_count": 12,
   "metadata": {},
   "outputs": [
    {
     "name": "stderr",
     "output_type": "stream",
     "text": [
      "ERROR:root:File `'abc.py'` not found.\n"
     ]
    }
   ],
   "source": [
    "# run all code within file\n",
    "%run abc.py\n",
    "# load all code of file paste it so we can update it\n",
    "%load abc.py"
   ]
  },
  {
   "cell_type": "code",
   "execution_count": 13,
   "metadata": {},
   "outputs": [],
   "source": [
    "np.sum??"
   ]
  },
  {
   "cell_type": "code",
   "execution_count": 9,
   "metadata": {},
   "outputs": [
    {
     "name": "stdout",
     "output_type": "stream",
     "text": [
      "Wall time: 237 ms\n"
     ]
    },
    {
     "data": {
      "text/plain": [
       "[0, 1, 2, 3, 4, 5, 6, 7, 8, 9, 10, 11, 12, 13, 14, 15, 16, 17, 18, 19]"
      ]
     },
     "execution_count": 9,
     "metadata": {},
     "output_type": "execute_result"
    }
   ],
   "source": [
    "%time list(range(2000000))[:20]"
   ]
  },
  {
   "cell_type": "code",
   "execution_count": 71,
   "metadata": {},
   "outputs": [
    {
     "name": "stdout",
     "output_type": "stream",
     "text": [
      "Wall time: 8 ms\n"
     ]
    },
    {
     "data": {
      "text/plain": [
       "array([      0,       1,       2, ..., 1999997, 1999998, 1999999])"
      ]
     },
     "execution_count": 71,
     "metadata": {},
     "output_type": "execute_result"
    }
   ],
   "source": [
    "%time np.arange(2000000)"
   ]
  },
  {
   "cell_type": "code",
   "execution_count": 13,
   "metadata": {},
   "outputs": [],
   "source": [
    "# numpy 10 to 100 times faster"
   ]
  },
  {
   "cell_type": "code",
   "execution_count": 73,
   "metadata": {},
   "outputs": [
    {
     "name": "stdout",
     "output_type": "stream",
     "text": [
      "Wall time: 0 ns\n"
     ]
    },
    {
     "data": {
      "text/plain": [
       "[6, 7, 8, 9, 10, 11, 12, 13, 14, 15, 16, 17, 18, 19, 20, 21, 22, 23, 24, 25]"
      ]
     },
     "execution_count": 73,
     "metadata": {},
     "output_type": "execute_result"
    }
   ],
   "source": [
    "%time [x+5 for x in range(1, 1000)][:20]"
   ]
  },
  {
   "cell_type": "code",
   "execution_count": 18,
   "metadata": {},
   "outputs": [
    {
     "name": "stdout",
     "output_type": "stream",
     "text": [
      "Wall time: 0 ns\n"
     ]
    },
    {
     "data": {
      "text/plain": [
       "array([   6,    7,    8,    9,   10,   11,   12,   13,   14,   15,   16,\n",
       "         17,   18,   19,   20,   21,   22,   23,   24,   25,   26,   27,\n",
       "         28,   29,   30,   31,   32,   33,   34,   35,   36,   37,   38,\n",
       "         39,   40,   41,   42,   43,   44,   45,   46,   47,   48,   49,\n",
       "         50,   51,   52,   53,   54,   55,   56,   57,   58,   59,   60,\n",
       "         61,   62,   63,   64,   65,   66,   67,   68,   69,   70,   71,\n",
       "         72,   73,   74,   75,   76,   77,   78,   79,   80,   81,   82,\n",
       "         83,   84,   85,   86,   87,   88,   89,   90,   91,   92,   93,\n",
       "         94,   95,   96,   97,   98,   99,  100,  101,  102,  103,  104,\n",
       "        105,  106,  107,  108,  109,  110,  111,  112,  113,  114,  115,\n",
       "        116,  117,  118,  119,  120,  121,  122,  123,  124,  125,  126,\n",
       "        127,  128,  129,  130,  131,  132,  133,  134,  135,  136,  137,\n",
       "        138,  139,  140,  141,  142,  143,  144,  145,  146,  147,  148,\n",
       "        149,  150,  151,  152,  153,  154,  155,  156,  157,  158,  159,\n",
       "        160,  161,  162,  163,  164,  165,  166,  167,  168,  169,  170,\n",
       "        171,  172,  173,  174,  175,  176,  177,  178,  179,  180,  181,\n",
       "        182,  183,  184,  185,  186,  187,  188,  189,  190,  191,  192,\n",
       "        193,  194,  195,  196,  197,  198,  199,  200,  201,  202,  203,\n",
       "        204,  205,  206,  207,  208,  209,  210,  211,  212,  213,  214,\n",
       "        215,  216,  217,  218,  219,  220,  221,  222,  223,  224,  225,\n",
       "        226,  227,  228,  229,  230,  231,  232,  233,  234,  235,  236,\n",
       "        237,  238,  239,  240,  241,  242,  243,  244,  245,  246,  247,\n",
       "        248,  249,  250,  251,  252,  253,  254,  255,  256,  257,  258,\n",
       "        259,  260,  261,  262,  263,  264,  265,  266,  267,  268,  269,\n",
       "        270,  271,  272,  273,  274,  275,  276,  277,  278,  279,  280,\n",
       "        281,  282,  283,  284,  285,  286,  287,  288,  289,  290,  291,\n",
       "        292,  293,  294,  295,  296,  297,  298,  299,  300,  301,  302,\n",
       "        303,  304,  305,  306,  307,  308,  309,  310,  311,  312,  313,\n",
       "        314,  315,  316,  317,  318,  319,  320,  321,  322,  323,  324,\n",
       "        325,  326,  327,  328,  329,  330,  331,  332,  333,  334,  335,\n",
       "        336,  337,  338,  339,  340,  341,  342,  343,  344,  345,  346,\n",
       "        347,  348,  349,  350,  351,  352,  353,  354,  355,  356,  357,\n",
       "        358,  359,  360,  361,  362,  363,  364,  365,  366,  367,  368,\n",
       "        369,  370,  371,  372,  373,  374,  375,  376,  377,  378,  379,\n",
       "        380,  381,  382,  383,  384,  385,  386,  387,  388,  389,  390,\n",
       "        391,  392,  393,  394,  395,  396,  397,  398,  399,  400,  401,\n",
       "        402,  403,  404,  405,  406,  407,  408,  409,  410,  411,  412,\n",
       "        413,  414,  415,  416,  417,  418,  419,  420,  421,  422,  423,\n",
       "        424,  425,  426,  427,  428,  429,  430,  431,  432,  433,  434,\n",
       "        435,  436,  437,  438,  439,  440,  441,  442,  443,  444,  445,\n",
       "        446,  447,  448,  449,  450,  451,  452,  453,  454,  455,  456,\n",
       "        457,  458,  459,  460,  461,  462,  463,  464,  465,  466,  467,\n",
       "        468,  469,  470,  471,  472,  473,  474,  475,  476,  477,  478,\n",
       "        479,  480,  481,  482,  483,  484,  485,  486,  487,  488,  489,\n",
       "        490,  491,  492,  493,  494,  495,  496,  497,  498,  499,  500,\n",
       "        501,  502,  503,  504,  505,  506,  507,  508,  509,  510,  511,\n",
       "        512,  513,  514,  515,  516,  517,  518,  519,  520,  521,  522,\n",
       "        523,  524,  525,  526,  527,  528,  529,  530,  531,  532,  533,\n",
       "        534,  535,  536,  537,  538,  539,  540,  541,  542,  543,  544,\n",
       "        545,  546,  547,  548,  549,  550,  551,  552,  553,  554,  555,\n",
       "        556,  557,  558,  559,  560,  561,  562,  563,  564,  565,  566,\n",
       "        567,  568,  569,  570,  571,  572,  573,  574,  575,  576,  577,\n",
       "        578,  579,  580,  581,  582,  583,  584,  585,  586,  587,  588,\n",
       "        589,  590,  591,  592,  593,  594,  595,  596,  597,  598,  599,\n",
       "        600,  601,  602,  603,  604,  605,  606,  607,  608,  609,  610,\n",
       "        611,  612,  613,  614,  615,  616,  617,  618,  619,  620,  621,\n",
       "        622,  623,  624,  625,  626,  627,  628,  629,  630,  631,  632,\n",
       "        633,  634,  635,  636,  637,  638,  639,  640,  641,  642,  643,\n",
       "        644,  645,  646,  647,  648,  649,  650,  651,  652,  653,  654,\n",
       "        655,  656,  657,  658,  659,  660,  661,  662,  663,  664,  665,\n",
       "        666,  667,  668,  669,  670,  671,  672,  673,  674,  675,  676,\n",
       "        677,  678,  679,  680,  681,  682,  683,  684,  685,  686,  687,\n",
       "        688,  689,  690,  691,  692,  693,  694,  695,  696,  697,  698,\n",
       "        699,  700,  701,  702,  703,  704,  705,  706,  707,  708,  709,\n",
       "        710,  711,  712,  713,  714,  715,  716,  717,  718,  719,  720,\n",
       "        721,  722,  723,  724,  725,  726,  727,  728,  729,  730,  731,\n",
       "        732,  733,  734,  735,  736,  737,  738,  739,  740,  741,  742,\n",
       "        743,  744,  745,  746,  747,  748,  749,  750,  751,  752,  753,\n",
       "        754,  755,  756,  757,  758,  759,  760,  761,  762,  763,  764,\n",
       "        765,  766,  767,  768,  769,  770,  771,  772,  773,  774,  775,\n",
       "        776,  777,  778,  779,  780,  781,  782,  783,  784,  785,  786,\n",
       "        787,  788,  789,  790,  791,  792,  793,  794,  795,  796,  797,\n",
       "        798,  799,  800,  801,  802,  803,  804,  805,  806,  807,  808,\n",
       "        809,  810,  811,  812,  813,  814,  815,  816,  817,  818,  819,\n",
       "        820,  821,  822,  823,  824,  825,  826,  827,  828,  829,  830,\n",
       "        831,  832,  833,  834,  835,  836,  837,  838,  839,  840,  841,\n",
       "        842,  843,  844,  845,  846,  847,  848,  849,  850,  851,  852,\n",
       "        853,  854,  855,  856,  857,  858,  859,  860,  861,  862,  863,\n",
       "        864,  865,  866,  867,  868,  869,  870,  871,  872,  873,  874,\n",
       "        875,  876,  877,  878,  879,  880,  881,  882,  883,  884,  885,\n",
       "        886,  887,  888,  889,  890,  891,  892,  893,  894,  895,  896,\n",
       "        897,  898,  899,  900,  901,  902,  903,  904,  905,  906,  907,\n",
       "        908,  909,  910,  911,  912,  913,  914,  915,  916,  917,  918,\n",
       "        919,  920,  921,  922,  923,  924,  925,  926,  927,  928,  929,\n",
       "        930,  931,  932,  933,  934,  935,  936,  937,  938,  939,  940,\n",
       "        941,  942,  943,  944,  945,  946,  947,  948,  949,  950,  951,\n",
       "        952,  953,  954,  955,  956,  957,  958,  959,  960,  961,  962,\n",
       "        963,  964,  965,  966,  967,  968,  969,  970,  971,  972,  973,\n",
       "        974,  975,  976,  977,  978,  979,  980,  981,  982,  983,  984,\n",
       "        985,  986,  987,  988,  989,  990,  991,  992,  993,  994,  995,\n",
       "        996,  997,  998,  999, 1000, 1001, 1002, 1003, 1004])"
      ]
     },
     "execution_count": 18,
     "metadata": {},
     "output_type": "execute_result"
    }
   ],
   "source": [
    "%time np.arange(1,1000) + 5"
   ]
  },
  {
   "cell_type": "code",
   "execution_count": 25,
   "metadata": {},
   "outputs": [
    {
     "name": "stdout",
     "output_type": "stream",
     "text": [
      "Wall time: 0 ns\n"
     ]
    },
    {
     "data": {
      "text/plain": [
       "[6, 7, 8, 9, 10, 11, 12, 13, 14, 15, 16, 17, 18, 19, 20, 21, 22, 23, 24, 25]"
      ]
     },
     "execution_count": 25,
     "metadata": {},
     "output_type": "execute_result"
    }
   ],
   "source": [
    "# lengthy logic for python\n",
    "%time\n",
    "l = list(range(1, 1000000))\n",
    "l2 = list(enumerate(l))\n",
    "for i, v in l2:\n",
    "    l[i] = l[i] + 5\n",
    "l[:20]"
   ]
  },
  {
   "cell_type": "code",
   "execution_count": 42,
   "metadata": {},
   "outputs": [
    {
     "name": "stdout",
     "output_type": "stream",
     "text": [
      "Before adding 5:\n",
      "[[1 2 3]\n",
      " [4 5 6]\n",
      " [7 8 9]]\n",
      "After adding 5:\n",
      "[[ 6  7  8]\n",
      " [ 9 10 11]\n",
      " [12 13 14]]\n"
     ]
    }
   ],
   "source": [
    "a = np.array([[1, 2, 3],\n",
    "             [4, 5, 6],\n",
    "             [7, 8, 9]])\n",
    "\n",
    "print('Before adding 5:', a, sep='\\n')\n",
    "for r, rd in list(enumerate(a)):\n",
    "    for c, cd in list(enumerate(rd)):\n",
    "        a[r][c] = a[r][c] + 5\n",
    "        #print(c, cd)\n",
    "        #break\n",
    "print('After adding 5:', a, sep='\\n')"
   ]
  },
  {
   "cell_type": "code",
   "execution_count": 43,
   "metadata": {},
   "outputs": [
    {
     "data": {
      "text/plain": [
       "array([[ 6,  7,  8],\n",
       "       [ 9, 10, 11],\n",
       "       [12, 13, 14]])"
      ]
     },
     "execution_count": 43,
     "metadata": {},
     "output_type": "execute_result"
    }
   ],
   "source": [
    "a = np.arange(1,10).reshape((3,3)) # to reshape tuple is passed\n",
    "a = a + 5\n",
    "a"
   ]
  },
  {
   "cell_type": "code",
   "execution_count": 45,
   "metadata": {},
   "outputs": [
    {
     "data": {
      "text/plain": [
       "array([[[ 6,  7],\n",
       "        [ 8,  9],\n",
       "        [10, 11],\n",
       "        [12, 13],\n",
       "        [14, 15]],\n",
       "\n",
       "       [[16, 17],\n",
       "        [18, 19],\n",
       "        [20, 21],\n",
       "        [22, 23],\n",
       "        [24, 25]],\n",
       "\n",
       "       [[26, 27],\n",
       "        [28, 29],\n",
       "        [30, 31],\n",
       "        [32, 33],\n",
       "        [34, 35]]])"
      ]
     },
     "execution_count": 45,
     "metadata": {},
     "output_type": "execute_result"
    }
   ],
   "source": [
    "a = np.arange(1,31).reshape((3,5,2))\n",
    "# 5 rows 2 columns\n",
    "a += 5\n",
    "a"
   ]
  },
  {
   "cell_type": "code",
   "execution_count": 46,
   "metadata": {},
   "outputs": [
    {
     "data": {
      "text/plain": [
       "array([[[ 6,  7,  8],\n",
       "        [ 9, 10, 11],\n",
       "        [12, 13, 14]],\n",
       "\n",
       "       [[15, 16, 17],\n",
       "        [18, 19, 20],\n",
       "        [21, 22, 23]],\n",
       "\n",
       "       [[24, 25, 26],\n",
       "        [27, 28, 29],\n",
       "        [30, 31, 32]]])"
      ]
     },
     "execution_count": 46,
     "metadata": {},
     "output_type": "execute_result"
    }
   ],
   "source": [
    "a = np.arange(1,28).reshape((3,3,3))\n",
    "# 5 rows 2 columns\n",
    "a += 5\n",
    "a"
   ]
  },
  {
   "cell_type": "code",
   "execution_count": null,
   "metadata": {},
   "outputs": [],
   "source": [
    "<img src=\"\">"
   ]
  },
  {
   "cell_type": "code",
   "execution_count": 47,
   "metadata": {},
   "outputs": [
    {
     "data": {
      "text/plain": [
       "array([[24, 25, 26],\n",
       "       [27, 28, 29],\n",
       "       [30, 31, 32]])"
      ]
     },
     "execution_count": 47,
     "metadata": {},
     "output_type": "execute_result"
    }
   ],
   "source": [
    "a[2]"
   ]
  },
  {
   "cell_type": "code",
   "execution_count": 48,
   "metadata": {},
   "outputs": [
    {
     "data": {
      "text/plain": [
       "array([24, 25, 26])"
      ]
     },
     "execution_count": 48,
     "metadata": {},
     "output_type": "execute_result"
    }
   ],
   "source": [
    "a[2,0]"
   ]
  },
  {
   "cell_type": "code",
   "execution_count": 49,
   "metadata": {},
   "outputs": [
    {
     "data": {
      "text/plain": [
       "25"
      ]
     },
     "execution_count": 49,
     "metadata": {},
     "output_type": "execute_result"
    }
   ],
   "source": [
    "a[2, 0, 1] # slicing"
   ]
  },
  {
   "cell_type": "code",
   "execution_count": 51,
   "metadata": {},
   "outputs": [
    {
     "data": {
      "text/plain": [
       "array([[[1, 0, 1],\n",
       "        [0, 1, 0],\n",
       "        [1, 0, 1]],\n",
       "\n",
       "       [[0, 1, 0],\n",
       "        [1, 0, 1],\n",
       "        [0, 1, 0]],\n",
       "\n",
       "       [[1, 0, 1],\n",
       "        [0, 1, 0],\n",
       "        [1, 0, 1]]])"
      ]
     },
     "execution_count": 51,
     "metadata": {},
     "output_type": "execute_result"
    }
   ],
   "source": [
    "a = np.arange(1,28).reshape((3,3,3))\n",
    "# 5 rows 2 columns\n",
    "# without using loop perform any mathematical operation\n",
    "#a *= 5\n",
    "# a -= 5\n",
    "# a **= 0.5\n",
    "a %= 2\n",
    "a"
   ]
  },
  {
   "cell_type": "code",
   "execution_count": 59,
   "metadata": {},
   "outputs": [
    {
     "data": {
      "text/plain": [
       "array([[4.02889425e+00, 2.51062465e-02, 3.60712176e-05, 2.41771901e+00,\n",
       "        2.75868408e+00, 2.74890501e-02],\n",
       "       [3.43770089e+00, 8.71293375e-01, 3.90830502e-01, 1.25994099e-01,\n",
       "        9.53612558e-01, 1.35272367e-01]])"
      ]
     },
     "execution_count": 59,
     "metadata": {},
     "output_type": "execute_result"
    }
   ],
   "source": [
    "a = np.random.randn(2, 6)\n",
    "a * a\n",
    "# a = np.random.randn(3, 4)"
   ]
  },
  {
   "cell_type": "code",
   "execution_count": 62,
   "metadata": {},
   "outputs": [
    {
     "name": "stdout",
     "output_type": "stream",
     "text": [
      "[[ 1  2]\n",
      " [ 3  4]\n",
      " [ 5  6]\n",
      " [ 7  8]\n",
      " [ 9 10]\n",
      " [11 12]]\n"
     ]
    },
    {
     "data": {
      "text/plain": [
       "array([[  1,   4],\n",
       "       [  9,  16],\n",
       "       [ 25,  36],\n",
       "       [ 49,  64],\n",
       "       [ 81, 100],\n",
       "       [121, 144]])"
      ]
     },
     "execution_count": 62,
     "metadata": {},
     "output_type": "execute_result"
    }
   ],
   "source": [
    "# pseudo random numbers in numpy\n",
    "a = np.arange(1,13).reshape(6, 2)\n",
    "print(a)\n",
    "a*a"
   ]
  },
  {
   "cell_type": "code",
   "execution_count": 58,
   "metadata": {},
   "outputs": [
    {
     "name": "stdout",
     "output_type": "stream",
     "text": [
      "(2, 3, 5, 8)\n"
     ]
    }
   ],
   "source": [
    "a = np.random.randn(2, 3, 5, 8) # 4 dimension\n",
    "print(a.shape) # shape and ndim is attribute not function\n",
    "a.ndim\n",
    "a *= 10"
   ]
  },
  {
   "cell_type": "code",
   "execution_count": 23,
   "metadata": {},
   "outputs": [
    {
     "name": "stdout",
     "output_type": "stream",
     "text": [
      "Wall time: 11 ms\n"
     ]
    },
    {
     "data": {
      "text/plain": [
       "array([      6,       7,       8, ..., 1000002, 1000003, 1000004])"
      ]
     },
     "execution_count": 23,
     "metadata": {},
     "output_type": "execute_result"
    }
   ],
   "source": [
    "# short command for numpy\n",
    "%time np.arange(1, 1000000) + 5"
   ]
  },
  {
   "cell_type": "code",
   "execution_count": 27,
   "metadata": {},
   "outputs": [
    {
     "data": {
      "text/plain": [
       "array([      6,       7,       8, ..., 1000002, 1000003, 1000004])"
      ]
     },
     "execution_count": 27,
     "metadata": {},
     "output_type": "execute_result"
    }
   ],
   "source": [
    "l = np.arange(1, 1000000) + 5\n",
    "l"
   ]
  },
  {
   "cell_type": "code",
   "execution_count": 28,
   "metadata": {},
   "outputs": [
    {
     "data": {
      "text/plain": [
       "numpy.ndarray"
      ]
     },
     "execution_count": 28,
     "metadata": {},
     "output_type": "execute_result"
    }
   ],
   "source": [
    "type(l)"
   ]
  },
  {
   "cell_type": "code",
   "execution_count": 29,
   "metadata": {},
   "outputs": [
    {
     "data": {
      "text/plain": [
       "(999999,)"
      ]
     },
     "execution_count": 29,
     "metadata": {},
     "output_type": "execute_result"
    }
   ],
   "source": [
    "l.shape"
   ]
  },
  {
   "cell_type": "code",
   "execution_count": 30,
   "metadata": {},
   "outputs": [
    {
     "data": {
      "text/plain": [
       "1"
      ]
     },
     "execution_count": 30,
     "metadata": {},
     "output_type": "execute_result"
    }
   ],
   "source": [
    "l.ndim"
   ]
  },
  {
   "cell_type": "markdown",
   "metadata": {},
   "source": [
    "## Dimensions"
   ]
  },
  {
   "cell_type": "code",
   "execution_count": 33,
   "metadata": {},
   "outputs": [
    {
     "name": "stdout",
     "output_type": "stream",
     "text": [
      "[1]\n",
      "1\n",
      "(1,)\n",
      "int32\n"
     ]
    }
   ],
   "source": [
    "a = np.array([1])\n",
    "print(a)\n",
    "print(a.ndim)\n",
    "print(a.shape)\n",
    "print(a.dtype) #datatype"
   ]
  },
  {
   "cell_type": "code",
   "execution_count": 32,
   "metadata": {},
   "outputs": [
    {
     "name": "stdout",
     "output_type": "stream",
     "text": [
      "[1 2 3 4]\n",
      "1\n",
      "(4,)\n",
      "int32\n"
     ]
    }
   ],
   "source": [
    "a = np.array([1, 2, 3, 4])\n",
    "print(a)\n",
    "print(a.ndim)\n",
    "print(a.shape)\n",
    "print(a.dtype) "
   ]
  },
  {
   "cell_type": "code",
   "execution_count": 35,
   "metadata": {},
   "outputs": [
    {
     "name": "stdout",
     "output_type": "stream",
     "text": [
      "[[1 2 3]\n",
      " [4 5 6]\n",
      " [7 8 9]]\n",
      "2\n",
      "(3, 3)\n",
      "int32\n"
     ]
    }
   ],
   "source": [
    "a = np.array([[1, 2, 3],\n",
    "             [4, 5, 6],\n",
    "             [7, 8, 9]])\n",
    "print(a)\n",
    "print(a.ndim)\n",
    "print(a.shape)\n",
    "print(a.dtype) "
   ]
  },
  {
   "cell_type": "markdown",
   "metadata": {},
   "source": [
    "### Creating ndarrays"
   ]
  },
  {
   "cell_type": "code",
   "execution_count": 63,
   "metadata": {},
   "outputs": [
    {
     "name": "stdout",
     "output_type": "stream",
     "text": [
      "<class 'list'>\n"
     ]
    }
   ],
   "source": [
    "a = [1, 2, 3] # list can have heterogenous data \n",
    "'''\n",
    "search array advantages and disadvantages\n",
    "but array is homogenous has same datatype\n",
    "and is assigned one time\n",
    "'''\n",
    "print(type(a))"
   ]
  },
  {
   "cell_type": "code",
   "execution_count": 65,
   "metadata": {},
   "outputs": [
    {
     "name": "stdout",
     "output_type": "stream",
     "text": [
      "<class 'numpy.ndarray'>\n",
      "int32\n"
     ]
    }
   ],
   "source": [
    "a = np.array(a)\n",
    "print(type(a))\n",
    "print(a.dtype)"
   ]
  },
  {
   "cell_type": "code",
   "execution_count": 66,
   "metadata": {},
   "outputs": [
    {
     "name": "stdout",
     "output_type": "stream",
     "text": [
      "<class 'numpy.ndarray'>\n",
      "int32\n"
     ]
    }
   ],
   "source": [
    "a = (1, 2, 3) # tuple\n",
    "a = np.array(a)\n",
    "print(type(a))\n",
    "print(a.dtype)"
   ]
  },
  {
   "cell_type": "code",
   "execution_count": 67,
   "metadata": {},
   "outputs": [
    {
     "name": "stdout",
     "output_type": "stream",
     "text": [
      "<class 'numpy.ndarray'>\n",
      "object\n"
     ]
    }
   ],
   "source": [
    "a = {1, 2, 3} # set\n",
    "a = np.array(a)\n",
    "print(type(a))\n",
    "print(a.dtype)"
   ]
  },
  {
   "cell_type": "code",
   "execution_count": 68,
   "metadata": {},
   "outputs": [
    {
     "data": {
      "text/plain": [
       "False"
      ]
     },
     "execution_count": 68,
     "metadata": {},
     "output_type": "execute_result"
    }
   ],
   "source": [
    "l = [1, 2, 3]\n",
    "a = np.array(l)\n",
    "a is l"
   ]
  },
  {
   "cell_type": "code",
   "execution_count": 69,
   "metadata": {},
   "outputs": [
    {
     "data": {
      "text/plain": [
       "False"
      ]
     },
     "execution_count": 69,
     "metadata": {},
     "output_type": "execute_result"
    }
   ],
   "source": [
    "l = [1, 2, 3]\n",
    "a = np.array(l)\n",
    "b = np.array(a)\n",
    "a is b"
   ]
  },
  {
   "cell_type": "code",
   "execution_count": 70,
   "metadata": {},
   "outputs": [
    {
     "data": {
      "text/plain": [
       "True"
      ]
     },
     "execution_count": 70,
     "metadata": {},
     "output_type": "execute_result"
    }
   ],
   "source": [
    "l = [1, 2, 3]\n",
    "a = np.asarray(l) # deep copy if list\n",
    "b = np.asarray(a) # if asarray then shallow copy\n",
    "a is b"
   ]
  },
  {
   "cell_type": "code",
   "execution_count": null,
   "metadata": {},
   "outputs": [],
   "source": [
    "# study chapter 4 practice from book, complete till next class\n",
    "# study from numpy.org documentation "
   ]
  }
 ],
 "metadata": {
  "kernelspec": {
   "display_name": "Python 3",
   "language": "python",
   "name": "python3"
  },
  "language_info": {
   "codemirror_mode": {
    "name": "ipython",
    "version": 3
   },
   "file_extension": ".py",
   "mimetype": "text/x-python",
   "name": "python",
   "nbconvert_exporter": "python",
   "pygments_lexer": "ipython3",
   "version": "3.7.3"
  }
 },
 "nbformat": 4,
 "nbformat_minor": 2
}
