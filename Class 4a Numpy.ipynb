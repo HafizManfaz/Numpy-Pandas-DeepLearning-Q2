{
 "cells": [
  {
   "cell_type": "raw",
   "metadata": {},
   "source": [
    "Coursera neural network and deep learning course for more information\n",
    "https://www.coursera.org/learn/neural-networks-deep-learning"
   ]
  },
  {
   "cell_type": "code",
   "execution_count": 4,
   "metadata": {},
   "outputs": [],
   "source": [
    "import numpy as np"
   ]
  },
  {
   "cell_type": "code",
   "execution_count": 2,
   "metadata": {},
   "outputs": [
    {
     "name": "stdout",
     "output_type": "stream",
     "text": [
      "[11 12  8 14  9  9 11 13  5 16 18  7  6  9 12 10 10 11  7  7]\n",
      "\n",
      "[2 1 6 9 3 8 1 2 9 7]\n"
     ]
    }
   ],
   "source": [
    "a = np.random.randint(1, 20, size=20)\n",
    "b = np.random.randint(1, 10, size=10)\n",
    "print(a, b, sep='\\n\\n')"
   ]
  },
  {
   "cell_type": "code",
   "execution_count": 7,
   "metadata": {},
   "outputs": [
    {
     "data": {
      "text/plain": [
       "[False, False, True, True, False, True, False, False, True, True]"
      ]
     },
     "execution_count": 7,
     "metadata": {},
     "output_type": "execute_result"
    }
   ],
   "source": [
    "# using python\n",
    "[True if x in a else False for x in b]"
   ]
  },
  {
   "cell_type": "code",
   "execution_count": 9,
   "metadata": {},
   "outputs": [
    {
     "data": {
      "text/plain": [
       "array([False, False,  True,  True, False,  True, False, False,  True,\n",
       "        True])"
      ]
     },
     "execution_count": 9,
     "metadata": {},
     "output_type": "execute_result"
    }
   ],
   "source": [
    "# using numpy\n",
    "np.in1d(b, a)"
   ]
  },
  {
   "cell_type": "markdown",
   "metadata": {},
   "source": [
    "### Stacking"
   ]
  },
  {
   "cell_type": "code",
   "execution_count": 12,
   "metadata": {},
   "outputs": [
    {
     "name": "stdout",
     "output_type": "stream",
     "text": [
      "[ 1  2  3  4  5  6  7  8  9 10]\n",
      "\n",
      "[ 3  6  9 12 15 18 21 24 27 30]\n"
     ]
    },
    {
     "data": {
      "text/plain": [
       "array([[ 1,  2,  3,  4,  5,  6,  7,  8,  9, 10],\n",
       "       [ 3,  6,  9, 12, 15, 18, 21, 24, 27, 30]])"
      ]
     },
     "execution_count": 12,
     "metadata": {},
     "output_type": "execute_result"
    }
   ],
   "source": [
    "a = np.arange(1, 11)\n",
    "b = a * 3\n",
    "print(a, b, sep='\\n\\n')\n",
    "np.stack((a, b), axis=0)"
   ]
  },
  {
   "cell_type": "code",
   "execution_count": 13,
   "metadata": {},
   "outputs": [
    {
     "data": {
      "text/plain": [
       "array([[ 1,  3],\n",
       "       [ 2,  6],\n",
       "       [ 3,  9],\n",
       "       [ 4, 12],\n",
       "       [ 5, 15],\n",
       "       [ 6, 18],\n",
       "       [ 7, 21],\n",
       "       [ 8, 24],\n",
       "       [ 9, 27],\n",
       "       [10, 30]])"
      ]
     },
     "execution_count": 13,
     "metadata": {},
     "output_type": "execute_result"
    }
   ],
   "source": [
    "np.stack((a, b), axis=1)"
   ]
  },
  {
   "cell_type": "code",
   "execution_count": 14,
   "metadata": {},
   "outputs": [
    {
     "data": {
      "text/plain": [
       "array([ 1,  2,  3,  4,  5,  6,  7,  8,  9, 10,  3,  6,  9, 12, 15, 18, 21,\n",
       "       24, 27, 30])"
      ]
     },
     "execution_count": 14,
     "metadata": {},
     "output_type": "execute_result"
    }
   ],
   "source": [
    "np.hstack((a,b)) #horizontal stack"
   ]
  },
  {
   "cell_type": "code",
   "execution_count": 16,
   "metadata": {},
   "outputs": [
    {
     "data": {
      "text/plain": [
       "array([[ 1,  2,  3,  4,  5,  6,  7,  8,  9, 10],\n",
       "       [ 3,  6,  9, 12, 15, 18, 21, 24, 27, 30]])"
      ]
     },
     "execution_count": 16,
     "metadata": {},
     "output_type": "execute_result"
    }
   ],
   "source": [
    "np.vstack((a,b)) # vertical stack"
   ]
  },
  {
   "cell_type": "code",
   "execution_count": 20,
   "metadata": {},
   "outputs": [
    {
     "name": "stdout",
     "output_type": "stream",
     "text": [
      "[[[0 1]\n",
      "  [2 3]]\n",
      "\n",
      " [[4 5]\n",
      "  [6 7]]]\n",
      "\n",
      "[[[10 11]\n",
      "  [12 13]]\n",
      "\n",
      " [[14 15]\n",
      "  [16 17]]]\n"
     ]
    }
   ],
   "source": [
    "a = np.arange(2*2*2).reshape((2,2,2))\n",
    "b = a + 10\n",
    "print(a, b , sep='\\n\\n')"
   ]
  },
  {
   "cell_type": "code",
   "execution_count": 21,
   "metadata": {},
   "outputs": [
    {
     "data": {
      "text/plain": [
       "array([[[ 0,  1, 10, 11],\n",
       "        [ 2,  3, 12, 13]],\n",
       "\n",
       "       [[ 4,  5, 14, 15],\n",
       "        [ 6,  7, 16, 17]]])"
      ]
     },
     "execution_count": 21,
     "metadata": {},
     "output_type": "execute_result"
    }
   ],
   "source": [
    "# deep stack\n",
    "np.dstack((a, b))"
   ]
  },
  {
   "cell_type": "code",
   "execution_count": 23,
   "metadata": {},
   "outputs": [
    {
     "name": "stdout",
     "output_type": "stream",
     "text": [
      "[[0 1]\n",
      " [2 3]]\n",
      "\n",
      "[[5 6]\n",
      " [7 8]]\n"
     ]
    }
   ],
   "source": [
    "a = np.arange(2*2).reshape((2,2))\n",
    "print(a, a + 5 , sep='\\n\\n')"
   ]
  },
  {
   "cell_type": "code",
   "execution_count": 24,
   "metadata": {},
   "outputs": [
    {
     "name": "stdout",
     "output_type": "stream",
     "text": [
      "[[0 1]\n",
      " [2 3]]\n",
      "\n",
      "[[5 5]\n",
      " [5 5]]\n"
     ]
    }
   ],
   "source": [
    "b = np.full_like(a, 5)\n",
    "print(a, b, sep='\\n\\n')"
   ]
  },
  {
   "cell_type": "code",
   "execution_count": 25,
   "metadata": {},
   "outputs": [
    {
     "data": {
      "text/plain": [
       "array([[5, 6],\n",
       "       [7, 8]])"
      ]
     },
     "execution_count": 25,
     "metadata": {},
     "output_type": "execute_result"
    }
   ],
   "source": [
    "a + b"
   ]
  },
  {
   "cell_type": "code",
   "execution_count": 27,
   "metadata": {},
   "outputs": [
    {
     "name": "stdout",
     "output_type": "stream",
     "text": [
      "[ 1  2  3  4  5  6  7  8  9 10]\n",
      "\n",
      "[ 3  6  9 12 15 18 21 24 27 30]\n"
     ]
    },
    {
     "data": {
      "text/plain": [
       "array([[ 1,  3],\n",
       "       [ 2,  6],\n",
       "       [ 3,  9],\n",
       "       [ 4, 12],\n",
       "       [ 5, 15],\n",
       "       [ 6, 18],\n",
       "       [ 7, 21],\n",
       "       [ 8, 24],\n",
       "       [ 9, 27],\n",
       "       [10, 30]])"
      ]
     },
     "execution_count": 27,
     "metadata": {},
     "output_type": "execute_result"
    }
   ],
   "source": [
    "a = np.arange(1, 11)\n",
    "b = a * 3\n",
    "print(a, b, sep='\\n\\n')\n",
    "np.column_stack((a, b))"
   ]
  },
  {
   "cell_type": "code",
   "execution_count": 28,
   "metadata": {},
   "outputs": [
    {
     "name": "stdout",
     "output_type": "stream",
     "text": [
      "[ 1  2  3  4  5  6  7  8  9 10]\n",
      "\n",
      "[ 3  6  9 12 15 18 21 24 27 30]\n"
     ]
    },
    {
     "data": {
      "text/plain": [
       "array([[ 1,  2,  3,  4,  5,  6,  7,  8,  9, 10],\n",
       "       [ 3,  6,  9, 12, 15, 18, 21, 24, 27, 30]])"
      ]
     },
     "execution_count": 28,
     "metadata": {},
     "output_type": "execute_result"
    }
   ],
   "source": [
    "a = np.arange(1, 11)\n",
    "b = a * 3\n",
    "print(a, b, sep='\\n\\n')\n",
    "np.row_stack((a, b))"
   ]
  },
  {
   "cell_type": "code",
   "execution_count": 29,
   "metadata": {},
   "outputs": [
    {
     "data": {
      "text/plain": [
       "array([[-1.62861703,  0.92599884, -0.30005273,  0.99727237,  0.568481  ],\n",
       "       [-0.13755866,  3.56172173, -0.69160052, -0.24058774, -1.05849078],\n",
       "       [ 0.40168015,  1.17261326,  1.76446881,  0.46108602,  0.50608611],\n",
       "       [ 2.66431378,  0.10057406, -0.05320486,  0.72694149, -1.12178383],\n",
       "       [ 0.53641361, -0.51551263,  0.77708884, -1.4056657 ,  0.04604462],\n",
       "       [-0.22891448,  0.36843045, -2.0899814 , -0.32965925,  2.23610605]])"
      ]
     },
     "execution_count": 29,
     "metadata": {},
     "output_type": "execute_result"
    }
   ],
   "source": [
    "a = np.random.randn(6, 5)\n",
    "a"
   ]
  },
  {
   "cell_type": "code",
   "execution_count": 36,
   "metadata": {},
   "outputs": [
    {
     "data": {
      "text/plain": [
       "array([[ 0,  1,  2,  3,  4,  5],\n",
       "       [ 6,  7,  8,  9, 10, 11],\n",
       "       [12, 13, 14, 15, 16, 17],\n",
       "       [18, 19, 20, 21, 22, 23],\n",
       "       [24, 25, 26, 27, 28, 29],\n",
       "       [30, 31, 32, 33, 34, 35]])"
      ]
     },
     "execution_count": 36,
     "metadata": {},
     "output_type": "execute_result"
    }
   ],
   "source": [
    "a = np.arange(6*6).reshape((6,6))\n",
    "a"
   ]
  },
  {
   "cell_type": "code",
   "execution_count": 40,
   "metadata": {},
   "outputs": [
    {
     "data": {
      "text/plain": [
       "[array([[ 0,  1,  2,  3,  4,  5],\n",
       "        [ 6,  7,  8,  9, 10, 11],\n",
       "        [12, 13, 14, 15, 16, 17]]), array([[18, 19, 20, 21, 22, 23],\n",
       "        [24, 25, 26, 27, 28, 29],\n",
       "        [30, 31, 32, 33, 34, 35]])]"
      ]
     },
     "execution_count": 40,
     "metadata": {},
     "output_type": "execute_result"
    }
   ],
   "source": [
    "np.split(a, 2) # row split"
   ]
  },
  {
   "cell_type": "code",
   "execution_count": 41,
   "metadata": {},
   "outputs": [
    {
     "data": {
      "text/plain": [
       "[array([[ 0,  1,  2],\n",
       "        [ 6,  7,  8],\n",
       "        [12, 13, 14],\n",
       "        [18, 19, 20],\n",
       "        [24, 25, 26],\n",
       "        [30, 31, 32]]), array([[ 3,  4,  5],\n",
       "        [ 9, 10, 11],\n",
       "        [15, 16, 17],\n",
       "        [21, 22, 23],\n",
       "        [27, 28, 29],\n",
       "        [33, 34, 35]])]"
      ]
     },
     "execution_count": 41,
     "metadata": {},
     "output_type": "execute_result"
    }
   ],
   "source": [
    "np.split(a, 2, axis=1) # column split"
   ]
  },
  {
   "cell_type": "code",
   "execution_count": 49,
   "metadata": {},
   "outputs": [
    {
     "name": "stdout",
     "output_type": "stream",
     "text": [
      "[10 16  2 18  3  6 11 17 12  3 18 16 18 10 14 18  4  1  9  9]\n",
      "\n",
      "[4 5 1 1 1 7 8 7 3 6]\n"
     ]
    },
    {
     "data": {
      "text/plain": [
       "array([1, 3, 4, 6])"
      ]
     },
     "execution_count": 49,
     "metadata": {},
     "output_type": "execute_result"
    }
   ],
   "source": [
    "a = np.random.randint(1, 20, size=20)\n",
    "b = np.random.randint(1, 10, size=10)\n",
    "print(a, b, sep='\\n\\n')\n",
    "np.intersect1d(a, b)"
   ]
  },
  {
   "cell_type": "code",
   "execution_count": 50,
   "metadata": {},
   "outputs": [
    {
     "name": "stdout",
     "output_type": "stream",
     "text": [
      "[ 7 14 19 10  5 18  6  8 12  3 16 15 14  2  3  2 14 14  8  6]\n",
      "\n",
      "[6 6 2 9 6 2 2 2 6 8]\n"
     ]
    },
    {
     "data": {
      "text/plain": [
       "array([ 2,  3,  5,  6,  7,  8,  9, 10, 12, 14, 15, 16, 18, 19])"
      ]
     },
     "execution_count": 50,
     "metadata": {},
     "output_type": "execute_result"
    }
   ],
   "source": [
    "a = np.random.randint(1, 20, size=20)\n",
    "b = np.random.randint(1, 10, size=10)\n",
    "print(a, b, sep='\\n\\n')\n",
    "np.union1d(a, b)"
   ]
  },
  {
   "cell_type": "code",
   "execution_count": 53,
   "metadata": {},
   "outputs": [
    {
     "name": "stdout",
     "output_type": "stream",
     "text": [
      "[11  8 11 14 12  6 16 16 14 13  6 16 13  5 12  9 17 19 10  7]\n",
      "\n",
      "[2 1 4 4 5 8 2 6 2 7]\n"
     ]
    },
    {
     "data": {
      "text/plain": [
       "array([ 9, 10, 11, 12, 13, 14, 16, 17, 19])"
      ]
     },
     "execution_count": 53,
     "metadata": {},
     "output_type": "execute_result"
    }
   ],
   "source": [
    "a = np.random.randint(1, 20, size=20)\n",
    "b = np.random.randint(1, 10, size=10)\n",
    "print(a, b, sep='\\n\\n')\n",
    "np.setdiff1d(a, b)"
   ]
  },
  {
   "cell_type": "code",
   "execution_count": 54,
   "metadata": {},
   "outputs": [
    {
     "data": {
      "text/plain": [
       "array([ 1,  2,  4,  9, 10, 11, 12, 13, 14, 16, 17, 19])"
      ]
     },
     "execution_count": 54,
     "metadata": {},
     "output_type": "execute_result"
    }
   ],
   "source": [
    "np.setxor1d(a, b)\n",
    "# xor \n",
    "# 0, 0 - 0\n",
    "# 1, 0 - 1\n",
    "# 0, 1 - 1\n",
    "# 1, 1 - 0\n",
    "# all these  from book chapter 4, 4.4\n",
    "# explore uit and saylani-a.i repository on enggqasim"
   ]
  },
  {
   "cell_type": "code",
   "execution_count": null,
   "metadata": {},
   "outputs": [],
   "source": []
  }
 ],
 "metadata": {
  "kernelspec": {
   "display_name": "Python 3",
   "language": "python",
   "name": "python3"
  },
  "language_info": {
   "codemirror_mode": {
    "name": "ipython",
    "version": 3
   },
   "file_extension": ".py",
   "mimetype": "text/x-python",
   "name": "python",
   "nbconvert_exporter": "python",
   "pygments_lexer": "ipython3",
   "version": "3.7.3"
  }
 },
 "nbformat": 4,
 "nbformat_minor": 2
}
