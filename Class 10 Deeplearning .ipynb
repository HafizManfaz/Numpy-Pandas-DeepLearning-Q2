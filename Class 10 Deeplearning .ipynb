{
 "cells": [
  {
   "cell_type": "code",
   "execution_count": 1,
   "metadata": {
    "colab": {},
    "colab_type": "code",
    "id": "JpaO6wDJOq2M"
   },
   "outputs": [],
   "source": [
    "from tensorflow.keras.models import Sequential\n",
    "from tensorflow.keras.layers import Dense\n",
    "from tensorflow.keras.optimizers import Adam, SGD"
   ]
  },
  {
   "cell_type": "code",
   "execution_count": 2,
   "metadata": {
    "colab": {},
    "colab_type": "code",
    "id": "n9_A92dGPvRe"
   },
   "outputs": [],
   "source": [
    "import numpy as np \n",
    "import pandas as pd"
   ]
  },
  {
   "cell_type": "code",
   "execution_count": 3,
   "metadata": {
    "colab": {
     "base_uri": "https://localhost:8080/",
     "height": 204
    },
    "colab_type": "code",
    "id": "ckOrDV4YPvgZ",
    "outputId": "ec7e6bb0-d17a-4b46-f718-dbd356cd48d1"
   },
   "outputs": [
    {
     "data": {
      "text/html": [
       "<div>\n",
       "<style scoped>\n",
       "    .dataframe tbody tr th:only-of-type {\n",
       "        vertical-align: middle;\n",
       "    }\n",
       "\n",
       "    .dataframe tbody tr th {\n",
       "        vertical-align: top;\n",
       "    }\n",
       "\n",
       "    .dataframe thead th {\n",
       "        text-align: right;\n",
       "    }\n",
       "</style>\n",
       "<table border=\"1\" class=\"dataframe\">\n",
       "  <thead>\n",
       "    <tr style=\"text-align: right;\">\n",
       "      <th></th>\n",
       "      <th>s1</th>\n",
       "      <th>s2</th>\n",
       "      <th>s3</th>\n",
       "      <th>s4</th>\n",
       "      <th>s5</th>\n",
       "      <th>obtained</th>\n",
       "      <th>total</th>\n",
       "      <th>percentage</th>\n",
       "    </tr>\n",
       "  </thead>\n",
       "  <tbody>\n",
       "    <tr>\n",
       "      <th>0</th>\n",
       "      <td>87</td>\n",
       "      <td>79</td>\n",
       "      <td>33</td>\n",
       "      <td>51</td>\n",
       "      <td>73</td>\n",
       "      <td>323</td>\n",
       "      <td>500</td>\n",
       "      <td>64.6</td>\n",
       "    </tr>\n",
       "    <tr>\n",
       "      <th>1</th>\n",
       "      <td>63</td>\n",
       "      <td>24</td>\n",
       "      <td>82</td>\n",
       "      <td>48</td>\n",
       "      <td>34</td>\n",
       "      <td>251</td>\n",
       "      <td>500</td>\n",
       "      <td>50.2</td>\n",
       "    </tr>\n",
       "    <tr>\n",
       "      <th>2</th>\n",
       "      <td>51</td>\n",
       "      <td>91</td>\n",
       "      <td>29</td>\n",
       "      <td>86</td>\n",
       "      <td>79</td>\n",
       "      <td>336</td>\n",
       "      <td>500</td>\n",
       "      <td>67.2</td>\n",
       "    </tr>\n",
       "    <tr>\n",
       "      <th>3</th>\n",
       "      <td>99</td>\n",
       "      <td>58</td>\n",
       "      <td>81</td>\n",
       "      <td>14</td>\n",
       "      <td>64</td>\n",
       "      <td>316</td>\n",
       "      <td>500</td>\n",
       "      <td>63.2</td>\n",
       "    </tr>\n",
       "    <tr>\n",
       "      <th>4</th>\n",
       "      <td>50</td>\n",
       "      <td>89</td>\n",
       "      <td>83</td>\n",
       "      <td>16</td>\n",
       "      <td>86</td>\n",
       "      <td>324</td>\n",
       "      <td>500</td>\n",
       "      <td>64.8</td>\n",
       "    </tr>\n",
       "  </tbody>\n",
       "</table>\n",
       "</div>"
      ],
      "text/plain": [
       "   s1  s2  s3  s4  s5  obtained  total  percentage\n",
       "0  87  79  33  51  73       323    500        64.6\n",
       "1  63  24  82  48  34       251    500        50.2\n",
       "2  51  91  29  86  79       336    500        67.2\n",
       "3  99  58  81  14  64       316    500        63.2\n",
       "4  50  89  83  16  86       324    500        64.8"
      ]
     },
     "execution_count": 3,
     "metadata": {
      "tags": []
     },
     "output_type": "execute_result"
    }
   ],
   "source": [
    "df = pd.DataFrame(np.random.randint(10, 100, size=(20000, 5)), columns=['s1', 's2', 's3', 's4', 's5'])\n",
    "df['obtained'] = df.loc[:, 's1': 's5'].apply(lambda x:np.sum(x), axis=1)\n",
    "df['total'] = 500\n",
    "df['percentage'] = df.obtained / df.total * 100\n",
    "df.head()"
   ]
  },
  {
   "cell_type": "code",
   "execution_count": 4,
   "metadata": {
    "colab": {
     "base_uri": "https://localhost:8080/",
     "height": 359
    },
    "colab_type": "code",
    "id": "92Et_dPwQ-DT",
    "outputId": "f49add61-0cb3-4f0a-bb2c-116343082a37"
   },
   "outputs": [
    {
     "data": {
      "text/html": [
       "<div>\n",
       "<style scoped>\n",
       "    .dataframe tbody tr th:only-of-type {\n",
       "        vertical-align: middle;\n",
       "    }\n",
       "\n",
       "    .dataframe tbody tr th {\n",
       "        vertical-align: top;\n",
       "    }\n",
       "\n",
       "    .dataframe thead th {\n",
       "        text-align: right;\n",
       "    }\n",
       "</style>\n",
       "<table border=\"1\" class=\"dataframe\">\n",
       "  <thead>\n",
       "    <tr style=\"text-align: right;\">\n",
       "      <th></th>\n",
       "      <th>s1</th>\n",
       "      <th>s2</th>\n",
       "      <th>s3</th>\n",
       "      <th>s4</th>\n",
       "      <th>s5</th>\n",
       "      <th>obtained</th>\n",
       "      <th>total</th>\n",
       "      <th>percentage</th>\n",
       "      <th>Grade</th>\n",
       "    </tr>\n",
       "  </thead>\n",
       "  <tbody>\n",
       "    <tr>\n",
       "      <th>0</th>\n",
       "      <td>87</td>\n",
       "      <td>79</td>\n",
       "      <td>33</td>\n",
       "      <td>51</td>\n",
       "      <td>73</td>\n",
       "      <td>323</td>\n",
       "      <td>500</td>\n",
       "      <td>64.6</td>\n",
       "      <td>B</td>\n",
       "    </tr>\n",
       "    <tr>\n",
       "      <th>1</th>\n",
       "      <td>63</td>\n",
       "      <td>24</td>\n",
       "      <td>82</td>\n",
       "      <td>48</td>\n",
       "      <td>34</td>\n",
       "      <td>251</td>\n",
       "      <td>500</td>\n",
       "      <td>50.2</td>\n",
       "      <td>C</td>\n",
       "    </tr>\n",
       "    <tr>\n",
       "      <th>2</th>\n",
       "      <td>51</td>\n",
       "      <td>91</td>\n",
       "      <td>29</td>\n",
       "      <td>86</td>\n",
       "      <td>79</td>\n",
       "      <td>336</td>\n",
       "      <td>500</td>\n",
       "      <td>67.2</td>\n",
       "      <td>B</td>\n",
       "    </tr>\n",
       "    <tr>\n",
       "      <th>3</th>\n",
       "      <td>99</td>\n",
       "      <td>58</td>\n",
       "      <td>81</td>\n",
       "      <td>14</td>\n",
       "      <td>64</td>\n",
       "      <td>316</td>\n",
       "      <td>500</td>\n",
       "      <td>63.2</td>\n",
       "      <td>B</td>\n",
       "    </tr>\n",
       "    <tr>\n",
       "      <th>4</th>\n",
       "      <td>50</td>\n",
       "      <td>89</td>\n",
       "      <td>83</td>\n",
       "      <td>16</td>\n",
       "      <td>86</td>\n",
       "      <td>324</td>\n",
       "      <td>500</td>\n",
       "      <td>64.8</td>\n",
       "      <td>B</td>\n",
       "    </tr>\n",
       "    <tr>\n",
       "      <th>5</th>\n",
       "      <td>14</td>\n",
       "      <td>50</td>\n",
       "      <td>28</td>\n",
       "      <td>69</td>\n",
       "      <td>26</td>\n",
       "      <td>187</td>\n",
       "      <td>500</td>\n",
       "      <td>37.4</td>\n",
       "      <td>E</td>\n",
       "    </tr>\n",
       "    <tr>\n",
       "      <th>6</th>\n",
       "      <td>44</td>\n",
       "      <td>61</td>\n",
       "      <td>57</td>\n",
       "      <td>37</td>\n",
       "      <td>88</td>\n",
       "      <td>287</td>\n",
       "      <td>500</td>\n",
       "      <td>57.4</td>\n",
       "      <td>C</td>\n",
       "    </tr>\n",
       "    <tr>\n",
       "      <th>7</th>\n",
       "      <td>59</td>\n",
       "      <td>93</td>\n",
       "      <td>11</td>\n",
       "      <td>66</td>\n",
       "      <td>95</td>\n",
       "      <td>324</td>\n",
       "      <td>500</td>\n",
       "      <td>64.8</td>\n",
       "      <td>B</td>\n",
       "    </tr>\n",
       "    <tr>\n",
       "      <th>8</th>\n",
       "      <td>23</td>\n",
       "      <td>47</td>\n",
       "      <td>17</td>\n",
       "      <td>10</td>\n",
       "      <td>78</td>\n",
       "      <td>175</td>\n",
       "      <td>500</td>\n",
       "      <td>35.0</td>\n",
       "      <td>E</td>\n",
       "    </tr>\n",
       "    <tr>\n",
       "      <th>9</th>\n",
       "      <td>25</td>\n",
       "      <td>48</td>\n",
       "      <td>64</td>\n",
       "      <td>72</td>\n",
       "      <td>91</td>\n",
       "      <td>300</td>\n",
       "      <td>500</td>\n",
       "      <td>60.0</td>\n",
       "      <td>B</td>\n",
       "    </tr>\n",
       "  </tbody>\n",
       "</table>\n",
       "</div>"
      ],
      "text/plain": [
       "   s1  s2  s3  s4  s5  obtained  total  percentage Grade\n",
       "0  87  79  33  51  73       323    500        64.6     B\n",
       "1  63  24  82  48  34       251    500        50.2     C\n",
       "2  51  91  29  86  79       336    500        67.2     B\n",
       "3  99  58  81  14  64       316    500        63.2     B\n",
       "4  50  89  83  16  86       324    500        64.8     B\n",
       "5  14  50  28  69  26       187    500        37.4     E\n",
       "6  44  61  57  37  88       287    500        57.4     C\n",
       "7  59  93  11  66  95       324    500        64.8     B\n",
       "8  23  47  17  10  78       175    500        35.0     E\n",
       "9  25  48  64  72  91       300    500        60.0     B"
      ]
     },
     "execution_count": 4,
     "metadata": {
      "tags": []
     },
     "output_type": "execute_result"
    }
   ],
   "source": [
    "def grade(x):\n",
    "    if x >= 80:\n",
    "        return 'A+'\n",
    "    elif x >= 70:\n",
    "        return 'A'\n",
    "    elif x >= 60:\n",
    "        return 'B'\n",
    "    elif x >= 50:\n",
    "        return 'C'\n",
    "    elif x >= 40:\n",
    "        return 'D'\n",
    "    elif x >= 33:\n",
    "        return 'E'\n",
    "    else:\n",
    "        return 'Fail'\n",
    "\n",
    "df['Grade'] = df.percentage.apply(grade)\n",
    "df.head(10)"
   ]
  },
  {
   "cell_type": "code",
   "execution_count": 5,
   "metadata": {
    "colab": {
     "base_uri": "https://localhost:8080/",
     "height": 204
    },
    "colab_type": "code",
    "id": "xRSCn_HsP8Im",
    "outputId": "2d04eedc-c0ce-46c1-a146-05a49b9c9fac"
   },
   "outputs": [
    {
     "data": {
      "text/html": [
       "<div>\n",
       "<style scoped>\n",
       "    .dataframe tbody tr th:only-of-type {\n",
       "        vertical-align: middle;\n",
       "    }\n",
       "\n",
       "    .dataframe tbody tr th {\n",
       "        vertical-align: top;\n",
       "    }\n",
       "\n",
       "    .dataframe thead th {\n",
       "        text-align: right;\n",
       "    }\n",
       "</style>\n",
       "<table border=\"1\" class=\"dataframe\">\n",
       "  <thead>\n",
       "    <tr style=\"text-align: right;\">\n",
       "      <th></th>\n",
       "      <th>s1</th>\n",
       "      <th>s2</th>\n",
       "      <th>s3</th>\n",
       "      <th>s4</th>\n",
       "      <th>s5</th>\n",
       "      <th>obtained</th>\n",
       "      <th>total</th>\n",
       "      <th>percentage</th>\n",
       "      <th>Grade</th>\n",
       "      <th>Grade1</th>\n",
       "    </tr>\n",
       "  </thead>\n",
       "  <tbody>\n",
       "    <tr>\n",
       "      <th>0</th>\n",
       "      <td>87</td>\n",
       "      <td>79</td>\n",
       "      <td>33</td>\n",
       "      <td>51</td>\n",
       "      <td>73</td>\n",
       "      <td>323</td>\n",
       "      <td>500</td>\n",
       "      <td>64.6</td>\n",
       "      <td>B</td>\n",
       "      <td>5</td>\n",
       "    </tr>\n",
       "    <tr>\n",
       "      <th>1</th>\n",
       "      <td>63</td>\n",
       "      <td>24</td>\n",
       "      <td>82</td>\n",
       "      <td>48</td>\n",
       "      <td>34</td>\n",
       "      <td>251</td>\n",
       "      <td>500</td>\n",
       "      <td>50.2</td>\n",
       "      <td>C</td>\n",
       "      <td>4</td>\n",
       "    </tr>\n",
       "    <tr>\n",
       "      <th>2</th>\n",
       "      <td>51</td>\n",
       "      <td>91</td>\n",
       "      <td>29</td>\n",
       "      <td>86</td>\n",
       "      <td>79</td>\n",
       "      <td>336</td>\n",
       "      <td>500</td>\n",
       "      <td>67.2</td>\n",
       "      <td>B</td>\n",
       "      <td>5</td>\n",
       "    </tr>\n",
       "    <tr>\n",
       "      <th>3</th>\n",
       "      <td>99</td>\n",
       "      <td>58</td>\n",
       "      <td>81</td>\n",
       "      <td>14</td>\n",
       "      <td>64</td>\n",
       "      <td>316</td>\n",
       "      <td>500</td>\n",
       "      <td>63.2</td>\n",
       "      <td>B</td>\n",
       "      <td>5</td>\n",
       "    </tr>\n",
       "    <tr>\n",
       "      <th>4</th>\n",
       "      <td>50</td>\n",
       "      <td>89</td>\n",
       "      <td>83</td>\n",
       "      <td>16</td>\n",
       "      <td>86</td>\n",
       "      <td>324</td>\n",
       "      <td>500</td>\n",
       "      <td>64.8</td>\n",
       "      <td>B</td>\n",
       "      <td>5</td>\n",
       "    </tr>\n",
       "  </tbody>\n",
       "</table>\n",
       "</div>"
      ],
      "text/plain": [
       "   s1  s2  s3  s4  s5  obtained  total  percentage Grade  Grade1\n",
       "0  87  79  33  51  73       323    500        64.6     B       5\n",
       "1  63  24  82  48  34       251    500        50.2     C       4\n",
       "2  51  91  29  86  79       336    500        67.2     B       5\n",
       "3  99  58  81  14  64       316    500        63.2     B       5\n",
       "4  50  89  83  16  86       324    500        64.8     B       5"
      ]
     },
     "execution_count": 5,
     "metadata": {
      "tags": []
     },
     "output_type": "execute_result"
    }
   ],
   "source": [
    "dic = {\n",
    "    'A+': 7,\n",
    "    'A': 6,\n",
    "    'B': 5,\n",
    "    'C': 4,\n",
    "    'D': 3,\n",
    "    'E': 2,\n",
    "    'Fail': 1\n",
    "}\n",
    "df['Grade1'] = df.Grade.map(dic)\n",
    "df.head()"
   ]
  },
  {
   "cell_type": "code",
   "execution_count": 6,
   "metadata": {
    "colab": {
     "base_uri": "https://localhost:8080/",
     "height": 204
    },
    "colab_type": "code",
    "id": "JrrUVBviRXw_",
    "outputId": "0531cc1d-b9d0-4700-e90b-99b7144c3da9"
   },
   "outputs": [
    {
     "data": {
      "text/html": [
       "<div>\n",
       "<style scoped>\n",
       "    .dataframe tbody tr th:only-of-type {\n",
       "        vertical-align: middle;\n",
       "    }\n",
       "\n",
       "    .dataframe tbody tr th {\n",
       "        vertical-align: top;\n",
       "    }\n",
       "\n",
       "    .dataframe thead th {\n",
       "        text-align: right;\n",
       "    }\n",
       "</style>\n",
       "<table border=\"1\" class=\"dataframe\">\n",
       "  <thead>\n",
       "    <tr style=\"text-align: right;\">\n",
       "      <th></th>\n",
       "      <th>s1</th>\n",
       "      <th>s2</th>\n",
       "      <th>s3</th>\n",
       "      <th>s4</th>\n",
       "      <th>s5</th>\n",
       "      <th>Grade</th>\n",
       "    </tr>\n",
       "  </thead>\n",
       "  <tbody>\n",
       "    <tr>\n",
       "      <th>2343</th>\n",
       "      <td>99</td>\n",
       "      <td>57</td>\n",
       "      <td>21</td>\n",
       "      <td>18</td>\n",
       "      <td>75</td>\n",
       "      <td>C</td>\n",
       "    </tr>\n",
       "    <tr>\n",
       "      <th>1311</th>\n",
       "      <td>64</td>\n",
       "      <td>73</td>\n",
       "      <td>86</td>\n",
       "      <td>77</td>\n",
       "      <td>84</td>\n",
       "      <td>A</td>\n",
       "    </tr>\n",
       "    <tr>\n",
       "      <th>19445</th>\n",
       "      <td>84</td>\n",
       "      <td>93</td>\n",
       "      <td>91</td>\n",
       "      <td>58</td>\n",
       "      <td>66</td>\n",
       "      <td>A</td>\n",
       "    </tr>\n",
       "    <tr>\n",
       "      <th>18413</th>\n",
       "      <td>26</td>\n",
       "      <td>36</td>\n",
       "      <td>45</td>\n",
       "      <td>48</td>\n",
       "      <td>47</td>\n",
       "      <td>D</td>\n",
       "    </tr>\n",
       "    <tr>\n",
       "      <th>1809</th>\n",
       "      <td>97</td>\n",
       "      <td>77</td>\n",
       "      <td>13</td>\n",
       "      <td>12</td>\n",
       "      <td>34</td>\n",
       "      <td>D</td>\n",
       "    </tr>\n",
       "  </tbody>\n",
       "</table>\n",
       "</div>"
      ],
      "text/plain": [
       "       s1  s2  s3  s4  s5 Grade\n",
       "2343   99  57  21  18  75     C\n",
       "1311   64  73  86  77  84     A\n",
       "19445  84  93  91  58  66     A\n",
       "18413  26  36  45  48  47     D\n",
       "1809   97  77  13  12  34     D"
      ]
     },
     "execution_count": 6,
     "metadata": {
      "tags": []
     },
     "output_type": "execute_result"
    }
   ],
   "source": [
    "df1 = df[['s1', 's2', 's3', 's4', 's5','Grade']]\n",
    "df1 = df1.sample(frac=1)  #shuffle data for good accuracy, however for time dependent data we dont shuffle\n",
    "df1.head()"
   ]
  },
  {
   "cell_type": "code",
   "execution_count": 7,
   "metadata": {
    "colab": {
     "base_uri": "https://localhost:8080/",
     "height": 204
    },
    "colab_type": "code",
    "id": "iw-oErhsRcbE",
    "outputId": "fcaefc6c-1d41-4a7e-e104-457af5dd44cb"
   },
   "outputs": [
    {
     "data": {
      "text/html": [
       "<div>\n",
       "<style scoped>\n",
       "    .dataframe tbody tr th:only-of-type {\n",
       "        vertical-align: middle;\n",
       "    }\n",
       "\n",
       "    .dataframe tbody tr th {\n",
       "        vertical-align: top;\n",
       "    }\n",
       "\n",
       "    .dataframe thead th {\n",
       "        text-align: right;\n",
       "    }\n",
       "</style>\n",
       "<table border=\"1\" class=\"dataframe\">\n",
       "  <thead>\n",
       "    <tr style=\"text-align: right;\">\n",
       "      <th></th>\n",
       "      <th>s1</th>\n",
       "      <th>s2</th>\n",
       "      <th>s3</th>\n",
       "      <th>s4</th>\n",
       "      <th>s5</th>\n",
       "    </tr>\n",
       "  </thead>\n",
       "  <tbody>\n",
       "    <tr>\n",
       "      <th>0</th>\n",
       "      <td>87</td>\n",
       "      <td>79</td>\n",
       "      <td>33</td>\n",
       "      <td>51</td>\n",
       "      <td>73</td>\n",
       "    </tr>\n",
       "    <tr>\n",
       "      <th>1</th>\n",
       "      <td>63</td>\n",
       "      <td>24</td>\n",
       "      <td>82</td>\n",
       "      <td>48</td>\n",
       "      <td>34</td>\n",
       "    </tr>\n",
       "    <tr>\n",
       "      <th>2</th>\n",
       "      <td>51</td>\n",
       "      <td>91</td>\n",
       "      <td>29</td>\n",
       "      <td>86</td>\n",
       "      <td>79</td>\n",
       "    </tr>\n",
       "    <tr>\n",
       "      <th>3</th>\n",
       "      <td>99</td>\n",
       "      <td>58</td>\n",
       "      <td>81</td>\n",
       "      <td>14</td>\n",
       "      <td>64</td>\n",
       "    </tr>\n",
       "    <tr>\n",
       "      <th>4</th>\n",
       "      <td>50</td>\n",
       "      <td>89</td>\n",
       "      <td>83</td>\n",
       "      <td>16</td>\n",
       "      <td>86</td>\n",
       "    </tr>\n",
       "  </tbody>\n",
       "</table>\n",
       "</div>"
      ],
      "text/plain": [
       "   s1  s2  s3  s4  s5\n",
       "0  87  79  33  51  73\n",
       "1  63  24  82  48  34\n",
       "2  51  91  29  86  79\n",
       "3  99  58  81  14  64\n",
       "4  50  89  83  16  86"
      ]
     },
     "execution_count": 7,
     "metadata": {
      "tags": []
     },
     "output_type": "execute_result"
    }
   ],
   "source": [
    "X = df.loc[:, 's1' : 's5']\n",
    "X.head()"
   ]
  },
  {
   "cell_type": "code",
   "execution_count": 8,
   "metadata": {
    "colab": {
     "base_uri": "https://localhost:8080/",
     "height": 204
    },
    "colab_type": "code",
    "id": "lP4GdnVFUKLA",
    "outputId": "c531d0f7-2ebe-4fe1-fc5d-37fbe58ee44c"
   },
   "outputs": [
    {
     "data": {
      "text/html": [
       "<div>\n",
       "<style scoped>\n",
       "    .dataframe tbody tr th:only-of-type {\n",
       "        vertical-align: middle;\n",
       "    }\n",
       "\n",
       "    .dataframe tbody tr th {\n",
       "        vertical-align: top;\n",
       "    }\n",
       "\n",
       "    .dataframe thead th {\n",
       "        text-align: right;\n",
       "    }\n",
       "</style>\n",
       "<table border=\"1\" class=\"dataframe\">\n",
       "  <thead>\n",
       "    <tr style=\"text-align: right;\">\n",
       "      <th></th>\n",
       "      <th>A</th>\n",
       "      <th>A+</th>\n",
       "      <th>B</th>\n",
       "      <th>C</th>\n",
       "      <th>D</th>\n",
       "      <th>E</th>\n",
       "      <th>Fail</th>\n",
       "    </tr>\n",
       "  </thead>\n",
       "  <tbody>\n",
       "    <tr>\n",
       "      <th>2343</th>\n",
       "      <td>0</td>\n",
       "      <td>0</td>\n",
       "      <td>0</td>\n",
       "      <td>1</td>\n",
       "      <td>0</td>\n",
       "      <td>0</td>\n",
       "      <td>0</td>\n",
       "    </tr>\n",
       "    <tr>\n",
       "      <th>1311</th>\n",
       "      <td>1</td>\n",
       "      <td>0</td>\n",
       "      <td>0</td>\n",
       "      <td>0</td>\n",
       "      <td>0</td>\n",
       "      <td>0</td>\n",
       "      <td>0</td>\n",
       "    </tr>\n",
       "    <tr>\n",
       "      <th>19445</th>\n",
       "      <td>1</td>\n",
       "      <td>0</td>\n",
       "      <td>0</td>\n",
       "      <td>0</td>\n",
       "      <td>0</td>\n",
       "      <td>0</td>\n",
       "      <td>0</td>\n",
       "    </tr>\n",
       "    <tr>\n",
       "      <th>18413</th>\n",
       "      <td>0</td>\n",
       "      <td>0</td>\n",
       "      <td>0</td>\n",
       "      <td>0</td>\n",
       "      <td>1</td>\n",
       "      <td>0</td>\n",
       "      <td>0</td>\n",
       "    </tr>\n",
       "    <tr>\n",
       "      <th>1809</th>\n",
       "      <td>0</td>\n",
       "      <td>0</td>\n",
       "      <td>0</td>\n",
       "      <td>0</td>\n",
       "      <td>1</td>\n",
       "      <td>0</td>\n",
       "      <td>0</td>\n",
       "    </tr>\n",
       "  </tbody>\n",
       "</table>\n",
       "</div>"
      ],
      "text/plain": [
       "       A  A+  B  C  D  E  Fail\n",
       "2343   0   0  0  1  0  0     0\n",
       "1311   1   0  0  0  0  0     0\n",
       "19445  1   0  0  0  0  0     0\n",
       "18413  0   0  0  0  1  0     0\n",
       "1809   0   0  0  0  1  0     0"
      ]
     },
     "execution_count": 8,
     "metadata": {
      "tags": []
     },
     "output_type": "execute_result"
    }
   ],
   "source": [
    "Y = df1.Grade\n",
    "Y = pd.get_dummies(Y) # apply one hot encoding > to solve multi classification\n",
    "Y.head()"
   ]
  },
  {
   "cell_type": "code",
   "execution_count": 9,
   "metadata": {
    "colab": {
     "base_uri": "https://localhost:8080/",
     "height": 266
    },
    "colab_type": "code",
    "id": "prSHWTtRnSaF",
    "outputId": "dffda185-6572-439c-c5ad-eb1464df050d"
   },
   "outputs": [
    {
     "data": {
      "text/html": [
       "<div>\n",
       "<style scoped>\n",
       "    .dataframe tbody tr th:only-of-type {\n",
       "        vertical-align: middle;\n",
       "    }\n",
       "\n",
       "    .dataframe tbody tr th {\n",
       "        vertical-align: top;\n",
       "    }\n",
       "\n",
       "    .dataframe thead th {\n",
       "        text-align: right;\n",
       "    }\n",
       "</style>\n",
       "<table border=\"1\" class=\"dataframe\">\n",
       "  <thead>\n",
       "    <tr style=\"text-align: right;\">\n",
       "      <th></th>\n",
       "      <th>A</th>\n",
       "      <th>A+</th>\n",
       "      <th>B</th>\n",
       "      <th>C</th>\n",
       "      <th>D</th>\n",
       "      <th>E</th>\n",
       "      <th>Fail</th>\n",
       "    </tr>\n",
       "  </thead>\n",
       "  <tbody>\n",
       "    <tr>\n",
       "      <th>2343</th>\n",
       "      <td>0</td>\n",
       "      <td>0</td>\n",
       "      <td>0</td>\n",
       "      <td>1</td>\n",
       "      <td>0</td>\n",
       "      <td>0</td>\n",
       "      <td>0</td>\n",
       "    </tr>\n",
       "    <tr>\n",
       "      <th>1311</th>\n",
       "      <td>1</td>\n",
       "      <td>0</td>\n",
       "      <td>0</td>\n",
       "      <td>0</td>\n",
       "      <td>0</td>\n",
       "      <td>0</td>\n",
       "      <td>0</td>\n",
       "    </tr>\n",
       "    <tr>\n",
       "      <th>18413</th>\n",
       "      <td>0</td>\n",
       "      <td>0</td>\n",
       "      <td>0</td>\n",
       "      <td>0</td>\n",
       "      <td>1</td>\n",
       "      <td>0</td>\n",
       "      <td>0</td>\n",
       "    </tr>\n",
       "    <tr>\n",
       "      <th>6529</th>\n",
       "      <td>0</td>\n",
       "      <td>0</td>\n",
       "      <td>0</td>\n",
       "      <td>0</td>\n",
       "      <td>0</td>\n",
       "      <td>1</td>\n",
       "      <td>0</td>\n",
       "    </tr>\n",
       "    <tr>\n",
       "      <th>8257</th>\n",
       "      <td>0</td>\n",
       "      <td>0</td>\n",
       "      <td>1</td>\n",
       "      <td>0</td>\n",
       "      <td>0</td>\n",
       "      <td>0</td>\n",
       "      <td>0</td>\n",
       "    </tr>\n",
       "    <tr>\n",
       "      <th>9109</th>\n",
       "      <td>0</td>\n",
       "      <td>0</td>\n",
       "      <td>0</td>\n",
       "      <td>0</td>\n",
       "      <td>0</td>\n",
       "      <td>0</td>\n",
       "      <td>1</td>\n",
       "    </tr>\n",
       "    <tr>\n",
       "      <th>1986</th>\n",
       "      <td>0</td>\n",
       "      <td>1</td>\n",
       "      <td>0</td>\n",
       "      <td>0</td>\n",
       "      <td>0</td>\n",
       "      <td>0</td>\n",
       "      <td>0</td>\n",
       "    </tr>\n",
       "  </tbody>\n",
       "</table>\n",
       "</div>"
      ],
      "text/plain": [
       "       A  A+  B  C  D  E  Fail\n",
       "2343   0   0  0  1  0  0     0\n",
       "1311   1   0  0  0  0  0     0\n",
       "18413  0   0  0  0  1  0     0\n",
       "6529   0   0  0  0  0  1     0\n",
       "8257   0   0  1  0  0  0     0\n",
       "9109   0   0  0  0  0  0     1\n",
       "1986   0   1  0  0  0  0     0"
      ]
     },
     "execution_count": 9,
     "metadata": {
      "tags": []
     },
     "output_type": "execute_result"
    }
   ],
   "source": [
    "Y.drop_duplicates()"
   ]
  },
  {
   "cell_type": "code",
   "execution_count": 14,
   "metadata": {
    "colab": {},
    "colab_type": "code",
    "id": "A57kz-S2Ovfa"
   },
   "outputs": [],
   "source": [
    "# first layer input_shape (no of columns in X)\n",
    "# last layer output number of labels in Y (unique values)\n",
    "# last layer acctivation function depend on your problem (4.6 book)\n",
    "model = Sequential()\n",
    "# can change Dense Units, output of hidden layer is 5 and input is also 5\n",
    "model.add(Dense(32, input_shape=(5,), activation='relu'))\n",
    "model.add(Dense(16, activation='relu'))\n",
    "model.add(Dense(7, activation='softmax')) # last layer output depend on number of labels"
   ]
  },
  {
   "cell_type": "code",
   "execution_count": 15,
   "metadata": {
    "colab": {
     "base_uri": "https://localhost:8080/",
     "height": 255
    },
    "colab_type": "code",
    "id": "RlhVFxyYQogt",
    "outputId": "73b043b1-4e25-4770-e595-2f0914dab632"
   },
   "outputs": [
    {
     "name": "stdout",
     "output_type": "stream",
     "text": [
      "Model: \"sequential_1\"\n",
      "_________________________________________________________________\n",
      "Layer (type)                 Output Shape              Param #   \n",
      "=================================================================\n",
      "dense_3 (Dense)              (None, 32)                192       \n",
      "_________________________________________________________________\n",
      "dense_4 (Dense)              (None, 16)                528       \n",
      "_________________________________________________________________\n",
      "dense_5 (Dense)              (None, 7)                 119       \n",
      "=================================================================\n",
      "Total params: 839\n",
      "Trainable params: 839\n",
      "Non-trainable params: 0\n",
      "_________________________________________________________________\n"
     ]
    }
   ],
   "source": [
    "model.summary()"
   ]
  },
  {
   "cell_type": "code",
   "execution_count": 18,
   "metadata": {
    "colab": {},
    "colab_type": "code",
    "id": "6RGOM_BBRh8t"
   },
   "outputs": [],
   "source": [
    "#  optimizer update > weights (w, b) based on loss function\n",
    "model.compile(optimizer=SGD(lr=0.002),\n",
    "              loss='categorical_crossentropy', # depend on our problem\n",
    "              metrics = ['acc']\n",
    "              )"
   ]
  },
  {
   "cell_type": "code",
   "execution_count": 19,
   "metadata": {
    "colab": {
     "base_uri": "https://localhost:8080/",
     "height": 1000
    },
    "colab_type": "code",
    "id": "x9amDx23TfjI",
    "outputId": "adb1da5b-bf5b-47e6-9dd3-074996c391c8"
   },
   "outputs": [
    {
     "name": "stdout",
     "output_type": "stream",
     "text": [
      "Epoch 1/30\n",
      "625/625 [==============================] - 1s 1ms/step - loss: 1.6221 - acc: 0.3235\n",
      "Epoch 2/30\n",
      "625/625 [==============================] - 1s 1ms/step - loss: 1.6219 - acc: 0.3235\n",
      "Epoch 3/30\n",
      "625/625 [==============================] - 1s 1ms/step - loss: 1.6217 - acc: 0.3234\n",
      "Epoch 4/30\n",
      "625/625 [==============================] - 1s 1ms/step - loss: 1.6216 - acc: 0.3234\n",
      "Epoch 5/30\n",
      "625/625 [==============================] - 1s 1ms/step - loss: 1.6216 - acc: 0.3233\n",
      "Epoch 6/30\n",
      "625/625 [==============================] - 1s 1ms/step - loss: 1.6215 - acc: 0.3236\n",
      "Epoch 7/30\n",
      "625/625 [==============================] - 1s 1ms/step - loss: 1.6215 - acc: 0.3237\n",
      "Epoch 8/30\n",
      "625/625 [==============================] - 1s 1ms/step - loss: 1.6215 - acc: 0.3234\n",
      "Epoch 9/30\n",
      "625/625 [==============================] - 1s 1ms/step - loss: 1.6214 - acc: 0.3237\n",
      "Epoch 10/30\n",
      "625/625 [==============================] - 1s 1ms/step - loss: 1.6215 - acc: 0.3235\n",
      "Epoch 11/30\n",
      "625/625 [==============================] - 1s 1ms/step - loss: 1.6214 - acc: 0.3234\n",
      "Epoch 12/30\n",
      "625/625 [==============================] - 1s 1ms/step - loss: 1.6214 - acc: 0.3236\n",
      "Epoch 13/30\n",
      "625/625 [==============================] - 1s 1ms/step - loss: 1.6214 - acc: 0.3235\n",
      "Epoch 14/30\n",
      "625/625 [==============================] - 1s 1ms/step - loss: 1.6213 - acc: 0.3234\n",
      "Epoch 15/30\n",
      "625/625 [==============================] - 1s 1ms/step - loss: 1.6213 - acc: 0.3234\n",
      "Epoch 16/30\n",
      "625/625 [==============================] - 1s 1ms/step - loss: 1.6213 - acc: 0.3237\n",
      "Epoch 17/30\n",
      "625/625 [==============================] - 1s 1ms/step - loss: 1.6213 - acc: 0.3234\n",
      "Epoch 18/30\n",
      "625/625 [==============================] - 1s 1ms/step - loss: 1.6213 - acc: 0.3234\n",
      "Epoch 19/30\n",
      "625/625 [==============================] - 1s 1ms/step - loss: 1.6213 - acc: 0.3234\n",
      "Epoch 20/30\n",
      "625/625 [==============================] - 1s 1ms/step - loss: 1.6213 - acc: 0.3237\n",
      "Epoch 21/30\n",
      "625/625 [==============================] - 1s 1ms/step - loss: 1.6213 - acc: 0.3234\n",
      "Epoch 22/30\n",
      "625/625 [==============================] - 1s 1ms/step - loss: 1.6212 - acc: 0.3230\n",
      "Epoch 23/30\n",
      "625/625 [==============================] - 1s 1ms/step - loss: 1.6213 - acc: 0.3233\n",
      "Epoch 24/30\n",
      "625/625 [==============================] - 1s 1ms/step - loss: 1.6212 - acc: 0.3234\n",
      "Epoch 25/30\n",
      "625/625 [==============================] - 1s 1ms/step - loss: 1.6212 - acc: 0.3236\n",
      "Epoch 26/30\n",
      "625/625 [==============================] - 1s 1ms/step - loss: 1.6212 - acc: 0.3233\n",
      "Epoch 27/30\n",
      "625/625 [==============================] - 1s 1ms/step - loss: 1.6212 - acc: 0.3234\n",
      "Epoch 28/30\n",
      "625/625 [==============================] - 1s 1ms/step - loss: 1.6212 - acc: 0.3234\n",
      "Epoch 29/30\n",
      "625/625 [==============================] - 1s 1ms/step - loss: 1.6212 - acc: 0.3237\n",
      "Epoch 30/30\n",
      "625/625 [==============================] - 1s 1ms/step - loss: 1.6211 - acc: 0.3237\n"
     ]
    },
    {
     "data": {
      "text/plain": [
       "<tensorflow.python.keras.callbacks.History at 0x7f9f001a7be0>"
      ]
     },
     "execution_count": 19,
     "metadata": {
      "tags": []
     },
     "output_type": "execute_result"
    }
   ],
   "source": [
    "model.fit(X,Y, epochs=30)"
   ]
  },
  {
   "cell_type": "code",
   "execution_count": null,
   "metadata": {
    "colab": {},
    "colab_type": "code",
    "id": "a6hgwLJ5RiGB"
   },
   "outputs": [],
   "source": [
    "# acc: 0.2785 /27.8% accurate\n",
    "#learning could be step by step\n",
    "#or by doubling step"
   ]
  },
  {
   "cell_type": "code",
   "execution_count": 20,
   "metadata": {
    "colab": {},
    "colab_type": "code",
    "id": "AOBsh1SkXPwL"
   },
   "outputs": [],
   "source": [
    "df['predict'] = Y.columns.take(np.argmax(model.predict(df1.loc[:, 's1':'s5']), axis=1))"
   ]
  },
  {
   "cell_type": "code",
   "execution_count": 21,
   "metadata": {
    "colab": {
     "base_uri": "https://localhost:8080/",
     "height": 204
    },
    "colab_type": "code",
    "id": "0xNN5BmiXtlB",
    "outputId": "ce919054-151f-4eed-e964-2f6181eea093"
   },
   "outputs": [
    {
     "data": {
      "text/html": [
       "<div>\n",
       "<style scoped>\n",
       "    .dataframe tbody tr th:only-of-type {\n",
       "        vertical-align: middle;\n",
       "    }\n",
       "\n",
       "    .dataframe tbody tr th {\n",
       "        vertical-align: top;\n",
       "    }\n",
       "\n",
       "    .dataframe thead th {\n",
       "        text-align: right;\n",
       "    }\n",
       "</style>\n",
       "<table border=\"1\" class=\"dataframe\">\n",
       "  <thead>\n",
       "    <tr style=\"text-align: right;\">\n",
       "      <th></th>\n",
       "      <th>s1</th>\n",
       "      <th>s2</th>\n",
       "      <th>s3</th>\n",
       "      <th>s4</th>\n",
       "      <th>s5</th>\n",
       "      <th>obtained</th>\n",
       "      <th>total</th>\n",
       "      <th>percentage</th>\n",
       "      <th>Grade</th>\n",
       "      <th>Grade1</th>\n",
       "      <th>predict</th>\n",
       "    </tr>\n",
       "  </thead>\n",
       "  <tbody>\n",
       "    <tr>\n",
       "      <th>0</th>\n",
       "      <td>87</td>\n",
       "      <td>79</td>\n",
       "      <td>33</td>\n",
       "      <td>51</td>\n",
       "      <td>73</td>\n",
       "      <td>323</td>\n",
       "      <td>500</td>\n",
       "      <td>64.6</td>\n",
       "      <td>B</td>\n",
       "      <td>5</td>\n",
       "      <td>C</td>\n",
       "    </tr>\n",
       "    <tr>\n",
       "      <th>1</th>\n",
       "      <td>63</td>\n",
       "      <td>24</td>\n",
       "      <td>82</td>\n",
       "      <td>48</td>\n",
       "      <td>34</td>\n",
       "      <td>251</td>\n",
       "      <td>500</td>\n",
       "      <td>50.2</td>\n",
       "      <td>C</td>\n",
       "      <td>4</td>\n",
       "      <td>C</td>\n",
       "    </tr>\n",
       "    <tr>\n",
       "      <th>2</th>\n",
       "      <td>51</td>\n",
       "      <td>91</td>\n",
       "      <td>29</td>\n",
       "      <td>86</td>\n",
       "      <td>79</td>\n",
       "      <td>336</td>\n",
       "      <td>500</td>\n",
       "      <td>67.2</td>\n",
       "      <td>B</td>\n",
       "      <td>5</td>\n",
       "      <td>C</td>\n",
       "    </tr>\n",
       "    <tr>\n",
       "      <th>3</th>\n",
       "      <td>99</td>\n",
       "      <td>58</td>\n",
       "      <td>81</td>\n",
       "      <td>14</td>\n",
       "      <td>64</td>\n",
       "      <td>316</td>\n",
       "      <td>500</td>\n",
       "      <td>63.2</td>\n",
       "      <td>B</td>\n",
       "      <td>5</td>\n",
       "      <td>C</td>\n",
       "    </tr>\n",
       "    <tr>\n",
       "      <th>4</th>\n",
       "      <td>50</td>\n",
       "      <td>89</td>\n",
       "      <td>83</td>\n",
       "      <td>16</td>\n",
       "      <td>86</td>\n",
       "      <td>324</td>\n",
       "      <td>500</td>\n",
       "      <td>64.8</td>\n",
       "      <td>B</td>\n",
       "      <td>5</td>\n",
       "      <td>C</td>\n",
       "    </tr>\n",
       "  </tbody>\n",
       "</table>\n",
       "</div>"
      ],
      "text/plain": [
       "   s1  s2  s3  s4  s5  obtained  total  percentage Grade  Grade1 predict\n",
       "0  87  79  33  51  73       323    500        64.6     B       5       C\n",
       "1  63  24  82  48  34       251    500        50.2     C       4       C\n",
       "2  51  91  29  86  79       336    500        67.2     B       5       C\n",
       "3  99  58  81  14  64       316    500        63.2     B       5       C\n",
       "4  50  89  83  16  86       324    500        64.8     B       5       C"
      ]
     },
     "execution_count": 21,
     "metadata": {
      "tags": []
     },
     "output_type": "execute_result"
    }
   ],
   "source": [
    "df.head()"
   ]
  },
  {
   "cell_type": "code",
   "execution_count": 22,
   "metadata": {
    "colab": {
     "base_uri": "https://localhost:8080/",
     "height": 204
    },
    "colab_type": "code",
    "id": "X8YxJgqUZ5Vl",
    "outputId": "ccc1c5ba-0fa5-41f6-d8be-5d75afd9c929"
   },
   "outputs": [
    {
     "data": {
      "text/html": [
       "<div>\n",
       "<style scoped>\n",
       "    .dataframe tbody tr th:only-of-type {\n",
       "        vertical-align: middle;\n",
       "    }\n",
       "\n",
       "    .dataframe tbody tr th {\n",
       "        vertical-align: top;\n",
       "    }\n",
       "\n",
       "    .dataframe thead th {\n",
       "        text-align: right;\n",
       "    }\n",
       "</style>\n",
       "<table border=\"1\" class=\"dataframe\">\n",
       "  <thead>\n",
       "    <tr style=\"text-align: right;\">\n",
       "      <th></th>\n",
       "      <th>s1</th>\n",
       "      <th>s2</th>\n",
       "      <th>s3</th>\n",
       "      <th>s4</th>\n",
       "      <th>s5</th>\n",
       "      <th>obtained</th>\n",
       "      <th>total</th>\n",
       "      <th>percentage</th>\n",
       "      <th>Grade</th>\n",
       "      <th>Grade1</th>\n",
       "      <th>predict</th>\n",
       "    </tr>\n",
       "  </thead>\n",
       "  <tbody>\n",
       "    <tr>\n",
       "      <th>19995</th>\n",
       "      <td>88</td>\n",
       "      <td>73</td>\n",
       "      <td>42</td>\n",
       "      <td>33</td>\n",
       "      <td>14</td>\n",
       "      <td>250</td>\n",
       "      <td>500</td>\n",
       "      <td>50.0</td>\n",
       "      <td>C</td>\n",
       "      <td>4</td>\n",
       "      <td>C</td>\n",
       "    </tr>\n",
       "    <tr>\n",
       "      <th>19996</th>\n",
       "      <td>15</td>\n",
       "      <td>14</td>\n",
       "      <td>53</td>\n",
       "      <td>23</td>\n",
       "      <td>48</td>\n",
       "      <td>153</td>\n",
       "      <td>500</td>\n",
       "      <td>30.6</td>\n",
       "      <td>Fail</td>\n",
       "      <td>1</td>\n",
       "      <td>C</td>\n",
       "    </tr>\n",
       "    <tr>\n",
       "      <th>19997</th>\n",
       "      <td>24</td>\n",
       "      <td>63</td>\n",
       "      <td>94</td>\n",
       "      <td>71</td>\n",
       "      <td>24</td>\n",
       "      <td>276</td>\n",
       "      <td>500</td>\n",
       "      <td>55.2</td>\n",
       "      <td>C</td>\n",
       "      <td>4</td>\n",
       "      <td>C</td>\n",
       "    </tr>\n",
       "    <tr>\n",
       "      <th>19998</th>\n",
       "      <td>46</td>\n",
       "      <td>30</td>\n",
       "      <td>75</td>\n",
       "      <td>79</td>\n",
       "      <td>42</td>\n",
       "      <td>272</td>\n",
       "      <td>500</td>\n",
       "      <td>54.4</td>\n",
       "      <td>C</td>\n",
       "      <td>4</td>\n",
       "      <td>C</td>\n",
       "    </tr>\n",
       "    <tr>\n",
       "      <th>19999</th>\n",
       "      <td>20</td>\n",
       "      <td>94</td>\n",
       "      <td>16</td>\n",
       "      <td>21</td>\n",
       "      <td>55</td>\n",
       "      <td>206</td>\n",
       "      <td>500</td>\n",
       "      <td>41.2</td>\n",
       "      <td>D</td>\n",
       "      <td>3</td>\n",
       "      <td>C</td>\n",
       "    </tr>\n",
       "  </tbody>\n",
       "</table>\n",
       "</div>"
      ],
      "text/plain": [
       "       s1  s2  s3  s4  s5  obtained  total  percentage Grade  Grade1 predict\n",
       "19995  88  73  42  33  14       250    500        50.0     C       4       C\n",
       "19996  15  14  53  23  48       153    500        30.6  Fail       1       C\n",
       "19997  24  63  94  71  24       276    500        55.2     C       4       C\n",
       "19998  46  30  75  79  42       272    500        54.4     C       4       C\n",
       "19999  20  94  16  21  55       206    500        41.2     D       3       C"
      ]
     },
     "execution_count": 22,
     "metadata": {
      "tags": []
     },
     "output_type": "execute_result"
    }
   ],
   "source": [
    "df.tail()"
   ]
  },
  {
   "cell_type": "code",
   "execution_count": null,
   "metadata": {
    "colab": {},
    "colab_type": "code",
    "id": "8D01DHtwprEj"
   },
   "outputs": [],
   "source": [
    "#assign today before 12\n",
    "#train on your family images 5-10 "
   ]
  },
  {
   "cell_type": "code",
   "execution_count": null,
   "metadata": {
    "colab": {},
    "colab_type": "code",
    "id": "BBqHkGKjqQQz"
   },
   "outputs": [],
   "source": [
    "#Computer vision problem"
   ]
  },
  {
   "cell_type": "code",
   "execution_count": 23,
   "metadata": {
    "colab": {},
    "colab_type": "code",
    "id": "v3p6UWnfqB5r"
   },
   "outputs": [],
   "source": [
    "from tensorflow.keras.preprocessing.image import ImageDataGenerator"
   ]
  },
  {
   "cell_type": "code",
   "execution_count": 25,
   "metadata": {
    "colab": {},
    "colab_type": "code",
    "id": "hmdP_u5EqNpe"
   },
   "outputs": [],
   "source": [
    "train_data_gen = ImageDataGenerator(rescale=1.0/255)"
   ]
  },
  {
   "cell_type": "code",
   "execution_count": 26,
   "metadata": {
    "colab": {
     "base_uri": "https://localhost:8080/",
     "height": 377
    },
    "colab_type": "code",
    "id": "3Cr8fn9kqOR9",
    "outputId": "a78dae7a-2487-4fb7-f1e2-c5006f98541f"
   },
   "outputs": [
    {
     "ename": "FileNotFoundError",
     "evalue": "ignored",
     "output_type": "error",
     "traceback": [
      "\u001b[0;31m---------------------------------------------------------------------------\u001b[0m",
      "\u001b[0;31mFileNotFoundError\u001b[0m                         Traceback (most recent call last)",
      "\u001b[0;32m<ipython-input-26-d981ea99aec7>\u001b[0m in \u001b[0;36m<module>\u001b[0;34m()\u001b[0m\n\u001b[1;32m      3\u001b[0m     \u001b[0mtarget_size\u001b[0m\u001b[0;34m=\u001b[0m\u001b[0;34m(\u001b[0m\u001b[0;36m150\u001b[0m\u001b[0;34m,\u001b[0m \u001b[0;36m150\u001b[0m\u001b[0;34m)\u001b[0m\u001b[0;34m,\u001b[0m\u001b[0;34m\u001b[0m\u001b[0;34m\u001b[0m\u001b[0m\n\u001b[1;32m      4\u001b[0m     \u001b[0mbatch_size\u001b[0m\u001b[0;34m=\u001b[0m\u001b[0;36m20\u001b[0m\u001b[0;34m,\u001b[0m\u001b[0;34m\u001b[0m\u001b[0;34m\u001b[0m\u001b[0m\n\u001b[0;32m----> 5\u001b[0;31m     \u001b[0mclass_mode\u001b[0m\u001b[0;34m=\u001b[0m\u001b[0;34m\"binary\"\u001b[0m\u001b[0;34m\u001b[0m\u001b[0;34m\u001b[0m\u001b[0m\n\u001b[0m\u001b[1;32m      6\u001b[0m )\n",
      "\u001b[0;32m/usr/local/lib/python3.6/dist-packages/keras_preprocessing/image/image_data_generator.py\u001b[0m in \u001b[0;36mflow_from_directory\u001b[0;34m(self, directory, target_size, color_mode, classes, class_mode, batch_size, shuffle, seed, save_to_dir, save_prefix, save_format, follow_links, subset, interpolation)\u001b[0m\n\u001b[1;32m    541\u001b[0m             \u001b[0msubset\u001b[0m\u001b[0;34m=\u001b[0m\u001b[0msubset\u001b[0m\u001b[0;34m,\u001b[0m\u001b[0;34m\u001b[0m\u001b[0;34m\u001b[0m\u001b[0m\n\u001b[1;32m    542\u001b[0m             \u001b[0minterpolation\u001b[0m\u001b[0;34m=\u001b[0m\u001b[0minterpolation\u001b[0m\u001b[0;34m,\u001b[0m\u001b[0;34m\u001b[0m\u001b[0;34m\u001b[0m\u001b[0m\n\u001b[0;32m--> 543\u001b[0;31m             \u001b[0mdtype\u001b[0m\u001b[0;34m=\u001b[0m\u001b[0mself\u001b[0m\u001b[0;34m.\u001b[0m\u001b[0mdtype\u001b[0m\u001b[0;34m\u001b[0m\u001b[0;34m\u001b[0m\u001b[0m\n\u001b[0m\u001b[1;32m    544\u001b[0m         )\n\u001b[1;32m    545\u001b[0m \u001b[0;34m\u001b[0m\u001b[0m\n",
      "\u001b[0;32m/usr/local/lib/python3.6/dist-packages/keras_preprocessing/image/directory_iterator.py\u001b[0m in \u001b[0;36m__init__\u001b[0;34m(self, directory, image_data_generator, target_size, color_mode, classes, class_mode, batch_size, shuffle, seed, data_format, save_to_dir, save_prefix, save_format, follow_links, subset, interpolation, dtype)\u001b[0m\n\u001b[1;32m    113\u001b[0m         \u001b[0;32mif\u001b[0m \u001b[0;32mnot\u001b[0m \u001b[0mclasses\u001b[0m\u001b[0;34m:\u001b[0m\u001b[0;34m\u001b[0m\u001b[0;34m\u001b[0m\u001b[0m\n\u001b[1;32m    114\u001b[0m             \u001b[0mclasses\u001b[0m \u001b[0;34m=\u001b[0m \u001b[0;34m[\u001b[0m\u001b[0;34m]\u001b[0m\u001b[0;34m\u001b[0m\u001b[0;34m\u001b[0m\u001b[0m\n\u001b[0;32m--> 115\u001b[0;31m             \u001b[0;32mfor\u001b[0m \u001b[0msubdir\u001b[0m \u001b[0;32min\u001b[0m \u001b[0msorted\u001b[0m\u001b[0;34m(\u001b[0m\u001b[0mos\u001b[0m\u001b[0;34m.\u001b[0m\u001b[0mlistdir\u001b[0m\u001b[0;34m(\u001b[0m\u001b[0mdirectory\u001b[0m\u001b[0;34m)\u001b[0m\u001b[0;34m)\u001b[0m\u001b[0;34m:\u001b[0m\u001b[0;34m\u001b[0m\u001b[0;34m\u001b[0m\u001b[0m\n\u001b[0m\u001b[1;32m    116\u001b[0m                 \u001b[0;32mif\u001b[0m \u001b[0mos\u001b[0m\u001b[0;34m.\u001b[0m\u001b[0mpath\u001b[0m\u001b[0;34m.\u001b[0m\u001b[0misdir\u001b[0m\u001b[0;34m(\u001b[0m\u001b[0mos\u001b[0m\u001b[0;34m.\u001b[0m\u001b[0mpath\u001b[0m\u001b[0;34m.\u001b[0m\u001b[0mjoin\u001b[0m\u001b[0;34m(\u001b[0m\u001b[0mdirectory\u001b[0m\u001b[0;34m,\u001b[0m \u001b[0msubdir\u001b[0m\u001b[0;34m)\u001b[0m\u001b[0;34m)\u001b[0m\u001b[0;34m:\u001b[0m\u001b[0;34m\u001b[0m\u001b[0;34m\u001b[0m\u001b[0m\n\u001b[1;32m    117\u001b[0m                     \u001b[0mclasses\u001b[0m\u001b[0;34m.\u001b[0m\u001b[0mappend\u001b[0m\u001b[0;34m(\u001b[0m\u001b[0msubdir\u001b[0m\u001b[0;34m)\u001b[0m\u001b[0;34m\u001b[0m\u001b[0;34m\u001b[0m\u001b[0m\n",
      "\u001b[0;31mFileNotFoundError\u001b[0m: [Errno 2] No such file or directory: './train'"
     ]
    }
   ],
   "source": [
    "train_data = train_data_gen.flow_from_directory(\n",
    "    \"./train\",\n",
    "    target_size=(150, 150),\n",
    "    batch_size=20,\n",
    "    class_mode=\"binary\"\n",
    ")"
   ]
  },
  {
   "cell_type": "code",
   "execution_count": null,
   "metadata": {
    "colab": {},
    "colab_type": "code",
    "id": "DV7xv2vOqOaP"
   },
   "outputs": [],
   "source": [
    "train_data.class_indices"
   ]
  },
  {
   "cell_type": "code",
   "execution_count": 27,
   "metadata": {
    "colab": {},
    "colab_type": "code",
    "id": "PUsexzbsqOV5"
   },
   "outputs": [],
   "source": [
    "from tensorflow.keras.models import Sequential\n",
    "from tensorflow.keras.layers import Dense, Flatten\n",
    "from tensorflow.keras.optimizers import Adam, SGD"
   ]
  },
  {
   "cell_type": "code",
   "execution_count": null,
   "metadata": {
    "colab": {},
    "colab_type": "code",
    "id": "DuoRytOcre4A"
   },
   "outputs": [],
   "source": [
    "model1 = Sequential()\n",
    "model1.add(Flatten())\n",
    "model1.add(Dense(5000, activation='relu'))\n",
    "model.add(Dense(1, activation='softmax')) "
   ]
  },
  {
   "cell_type": "code",
   "execution_count": null,
   "metadata": {
    "colab": {},
    "colab_type": "code",
    "id": "1wJyu6d1rfCW"
   },
   "outputs": [],
   "source": [
    "model1.compile(optimizer='adam',\n",
    "              loss='categorical_crossentropy', # depend on our problem\n",
    "              metrics = ['acc']\n",
    "              )"
   ]
  },
  {
   "cell_type": "code",
   "execution_count": null,
   "metadata": {
    "colab": {},
    "colab_type": "code",
    "id": "6ejGmTaIrfAn"
   },
   "outputs": [],
   "source": [
    "hist = model1.fit(train_data, epochs=15)"
   ]
  },
  {
   "cell_type": "code",
   "execution_count": null,
   "metadata": {
    "colab": {},
    "colab_type": "code",
    "id": "_gUz1W7Rre9d"
   },
   "outputs": [],
   "source": [
    "test_data = train_data_gen.flow_from_directory(\n",
    "    \"./test\",\n",
    "    target_size=(150,150),\n",
    "    batch_size=20,\n",
    "    class_mode='binary'\n",
    ")"
   ]
  },
  {
   "cell_type": "code",
   "execution_count": null,
   "metadata": {
    "colab": {},
    "colab_type": "code",
    "id": "HY098fMMsWdd"
   },
   "outputs": [],
   "source": [
    "Y = model1.predict(test_data)"
   ]
  },
  {
   "cell_type": "code",
   "execution_count": null,
   "metadata": {
    "colab": {},
    "colab_type": "code",
    "id": "6hi75_EpsWl5"
   },
   "outputs": [],
   "source": [
    "np.where(Y>0.5, 'Mama', 'Papa')"
   ]
  },
  {
   "cell_type": "code",
   "execution_count": null,
   "metadata": {
    "colab": {},
    "colab_type": "code",
    "id": "Y1BsJSX0tA0C"
   },
   "outputs": [],
   "source": [
    "from tensorflow.keras.preprocessing.image import image\n",
    "img  = image.img_to_array(img) / 255\n",
    "x = x.reshape()"
   ]
  },
  {
   "cell_type": "code",
   "execution_count": null,
   "metadata": {
    "colab": {},
    "colab_type": "code",
    "id": "N-LpE9o6tA39"
   },
   "outputs": [],
   "source": []
  }
 ],
 "metadata": {
  "colab": {
   "collapsed_sections": [],
   "name": "Deeplearning.ipynb",
   "provenance": []
  },
  "kernelspec": {
   "display_name": "Python 3",
   "language": "python",
   "name": "python3"
  },
  "language_info": {
   "codemirror_mode": {
    "name": "ipython",
    "version": 3
   },
   "file_extension": ".py",
   "mimetype": "text/x-python",
   "name": "python",
   "nbconvert_exporter": "python",
   "pygments_lexer": "ipython3",
   "version": "3.7.3"
  }
 },
 "nbformat": 4,
 "nbformat_minor": 1
}
